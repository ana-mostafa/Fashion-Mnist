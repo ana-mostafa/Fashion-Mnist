{
  "nbformat": 4,
  "nbformat_minor": 0,
  "metadata": {
    "colab": {
      "name": "nncoursework.ipynb",
      "provenance": [],
      "collapsed_sections": []
    },
    "kernelspec": {
      "name": "python3",
      "display_name": "Python 3"
    },
    "language_info": {
      "name": "python"
    },
    "widgets": {
      "application/vnd.jupyter.widget-state+json": {
        "51bf9a999fae4a59be72b348a7707fe6": {
          "model_module": "@jupyter-widgets/controls",
          "model_name": "HBoxModel",
          "model_module_version": "1.5.0",
          "state": {
            "_dom_classes": [],
            "_model_module": "@jupyter-widgets/controls",
            "_model_module_version": "1.5.0",
            "_model_name": "HBoxModel",
            "_view_count": null,
            "_view_module": "@jupyter-widgets/controls",
            "_view_module_version": "1.5.0",
            "_view_name": "HBoxView",
            "box_style": "",
            "children": [
              "IPY_MODEL_fe3468d764c74bbf86affbe839bafadb",
              "IPY_MODEL_fa7467364ca5442ca299e5211da0bd54",
              "IPY_MODEL_27a16f8e814b4e9bb8e4b373528b47f8"
            ],
            "layout": "IPY_MODEL_30c5c8a64b52402293b8c46e4cd69ca6"
          }
        },
        "fe3468d764c74bbf86affbe839bafadb": {
          "model_module": "@jupyter-widgets/controls",
          "model_name": "HTMLModel",
          "model_module_version": "1.5.0",
          "state": {
            "_dom_classes": [],
            "_model_module": "@jupyter-widgets/controls",
            "_model_module_version": "1.5.0",
            "_model_name": "HTMLModel",
            "_view_count": null,
            "_view_module": "@jupyter-widgets/controls",
            "_view_module_version": "1.5.0",
            "_view_name": "HTMLView",
            "description": "",
            "description_tooltip": null,
            "layout": "IPY_MODEL_1a816b41ad4f4180bd0aac0000cbfbb5",
            "placeholder": "​",
            "style": "IPY_MODEL_b2f87b7d15db4663bcb7d0e5e7ae1e37",
            "value": ""
          }
        },
        "fa7467364ca5442ca299e5211da0bd54": {
          "model_module": "@jupyter-widgets/controls",
          "model_name": "FloatProgressModel",
          "model_module_version": "1.5.0",
          "state": {
            "_dom_classes": [],
            "_model_module": "@jupyter-widgets/controls",
            "_model_module_version": "1.5.0",
            "_model_name": "FloatProgressModel",
            "_view_count": null,
            "_view_module": "@jupyter-widgets/controls",
            "_view_module_version": "1.5.0",
            "_view_name": "ProgressView",
            "bar_style": "success",
            "description": "",
            "description_tooltip": null,
            "layout": "IPY_MODEL_eb85cc0f657e4a7aaf28f4336ccf4b88",
            "max": 26421880,
            "min": 0,
            "orientation": "horizontal",
            "style": "IPY_MODEL_18f6870b4c2f46c49150203983c058c8",
            "value": 26421880
          }
        },
        "27a16f8e814b4e9bb8e4b373528b47f8": {
          "model_module": "@jupyter-widgets/controls",
          "model_name": "HTMLModel",
          "model_module_version": "1.5.0",
          "state": {
            "_dom_classes": [],
            "_model_module": "@jupyter-widgets/controls",
            "_model_module_version": "1.5.0",
            "_model_name": "HTMLModel",
            "_view_count": null,
            "_view_module": "@jupyter-widgets/controls",
            "_view_module_version": "1.5.0",
            "_view_name": "HTMLView",
            "description": "",
            "description_tooltip": null,
            "layout": "IPY_MODEL_2d791cef67894b92a86139530d247ddc",
            "placeholder": "​",
            "style": "IPY_MODEL_00039402804f4f3b8165011faac111f1",
            "value": " 26422272/? [00:01&lt;00:00, 25608854.69it/s]"
          }
        },
        "30c5c8a64b52402293b8c46e4cd69ca6": {
          "model_module": "@jupyter-widgets/base",
          "model_name": "LayoutModel",
          "model_module_version": "1.2.0",
          "state": {
            "_model_module": "@jupyter-widgets/base",
            "_model_module_version": "1.2.0",
            "_model_name": "LayoutModel",
            "_view_count": null,
            "_view_module": "@jupyter-widgets/base",
            "_view_module_version": "1.2.0",
            "_view_name": "LayoutView",
            "align_content": null,
            "align_items": null,
            "align_self": null,
            "border": null,
            "bottom": null,
            "display": null,
            "flex": null,
            "flex_flow": null,
            "grid_area": null,
            "grid_auto_columns": null,
            "grid_auto_flow": null,
            "grid_auto_rows": null,
            "grid_column": null,
            "grid_gap": null,
            "grid_row": null,
            "grid_template_areas": null,
            "grid_template_columns": null,
            "grid_template_rows": null,
            "height": null,
            "justify_content": null,
            "justify_items": null,
            "left": null,
            "margin": null,
            "max_height": null,
            "max_width": null,
            "min_height": null,
            "min_width": null,
            "object_fit": null,
            "object_position": null,
            "order": null,
            "overflow": null,
            "overflow_x": null,
            "overflow_y": null,
            "padding": null,
            "right": null,
            "top": null,
            "visibility": null,
            "width": null
          }
        },
        "1a816b41ad4f4180bd0aac0000cbfbb5": {
          "model_module": "@jupyter-widgets/base",
          "model_name": "LayoutModel",
          "model_module_version": "1.2.0",
          "state": {
            "_model_module": "@jupyter-widgets/base",
            "_model_module_version": "1.2.0",
            "_model_name": "LayoutModel",
            "_view_count": null,
            "_view_module": "@jupyter-widgets/base",
            "_view_module_version": "1.2.0",
            "_view_name": "LayoutView",
            "align_content": null,
            "align_items": null,
            "align_self": null,
            "border": null,
            "bottom": null,
            "display": null,
            "flex": null,
            "flex_flow": null,
            "grid_area": null,
            "grid_auto_columns": null,
            "grid_auto_flow": null,
            "grid_auto_rows": null,
            "grid_column": null,
            "grid_gap": null,
            "grid_row": null,
            "grid_template_areas": null,
            "grid_template_columns": null,
            "grid_template_rows": null,
            "height": null,
            "justify_content": null,
            "justify_items": null,
            "left": null,
            "margin": null,
            "max_height": null,
            "max_width": null,
            "min_height": null,
            "min_width": null,
            "object_fit": null,
            "object_position": null,
            "order": null,
            "overflow": null,
            "overflow_x": null,
            "overflow_y": null,
            "padding": null,
            "right": null,
            "top": null,
            "visibility": null,
            "width": null
          }
        },
        "b2f87b7d15db4663bcb7d0e5e7ae1e37": {
          "model_module": "@jupyter-widgets/controls",
          "model_name": "DescriptionStyleModel",
          "model_module_version": "1.5.0",
          "state": {
            "_model_module": "@jupyter-widgets/controls",
            "_model_module_version": "1.5.0",
            "_model_name": "DescriptionStyleModel",
            "_view_count": null,
            "_view_module": "@jupyter-widgets/base",
            "_view_module_version": "1.2.0",
            "_view_name": "StyleView",
            "description_width": ""
          }
        },
        "eb85cc0f657e4a7aaf28f4336ccf4b88": {
          "model_module": "@jupyter-widgets/base",
          "model_name": "LayoutModel",
          "model_module_version": "1.2.0",
          "state": {
            "_model_module": "@jupyter-widgets/base",
            "_model_module_version": "1.2.0",
            "_model_name": "LayoutModel",
            "_view_count": null,
            "_view_module": "@jupyter-widgets/base",
            "_view_module_version": "1.2.0",
            "_view_name": "LayoutView",
            "align_content": null,
            "align_items": null,
            "align_self": null,
            "border": null,
            "bottom": null,
            "display": null,
            "flex": null,
            "flex_flow": null,
            "grid_area": null,
            "grid_auto_columns": null,
            "grid_auto_flow": null,
            "grid_auto_rows": null,
            "grid_column": null,
            "grid_gap": null,
            "grid_row": null,
            "grid_template_areas": null,
            "grid_template_columns": null,
            "grid_template_rows": null,
            "height": null,
            "justify_content": null,
            "justify_items": null,
            "left": null,
            "margin": null,
            "max_height": null,
            "max_width": null,
            "min_height": null,
            "min_width": null,
            "object_fit": null,
            "object_position": null,
            "order": null,
            "overflow": null,
            "overflow_x": null,
            "overflow_y": null,
            "padding": null,
            "right": null,
            "top": null,
            "visibility": null,
            "width": null
          }
        },
        "18f6870b4c2f46c49150203983c058c8": {
          "model_module": "@jupyter-widgets/controls",
          "model_name": "ProgressStyleModel",
          "model_module_version": "1.5.0",
          "state": {
            "_model_module": "@jupyter-widgets/controls",
            "_model_module_version": "1.5.0",
            "_model_name": "ProgressStyleModel",
            "_view_count": null,
            "_view_module": "@jupyter-widgets/base",
            "_view_module_version": "1.2.0",
            "_view_name": "StyleView",
            "bar_color": null,
            "description_width": ""
          }
        },
        "2d791cef67894b92a86139530d247ddc": {
          "model_module": "@jupyter-widgets/base",
          "model_name": "LayoutModel",
          "model_module_version": "1.2.0",
          "state": {
            "_model_module": "@jupyter-widgets/base",
            "_model_module_version": "1.2.0",
            "_model_name": "LayoutModel",
            "_view_count": null,
            "_view_module": "@jupyter-widgets/base",
            "_view_module_version": "1.2.0",
            "_view_name": "LayoutView",
            "align_content": null,
            "align_items": null,
            "align_self": null,
            "border": null,
            "bottom": null,
            "display": null,
            "flex": null,
            "flex_flow": null,
            "grid_area": null,
            "grid_auto_columns": null,
            "grid_auto_flow": null,
            "grid_auto_rows": null,
            "grid_column": null,
            "grid_gap": null,
            "grid_row": null,
            "grid_template_areas": null,
            "grid_template_columns": null,
            "grid_template_rows": null,
            "height": null,
            "justify_content": null,
            "justify_items": null,
            "left": null,
            "margin": null,
            "max_height": null,
            "max_width": null,
            "min_height": null,
            "min_width": null,
            "object_fit": null,
            "object_position": null,
            "order": null,
            "overflow": null,
            "overflow_x": null,
            "overflow_y": null,
            "padding": null,
            "right": null,
            "top": null,
            "visibility": null,
            "width": null
          }
        },
        "00039402804f4f3b8165011faac111f1": {
          "model_module": "@jupyter-widgets/controls",
          "model_name": "DescriptionStyleModel",
          "model_module_version": "1.5.0",
          "state": {
            "_model_module": "@jupyter-widgets/controls",
            "_model_module_version": "1.5.0",
            "_model_name": "DescriptionStyleModel",
            "_view_count": null,
            "_view_module": "@jupyter-widgets/base",
            "_view_module_version": "1.2.0",
            "_view_name": "StyleView",
            "description_width": ""
          }
        },
        "b8e95d2976fc44748ecef02c61ce63cb": {
          "model_module": "@jupyter-widgets/controls",
          "model_name": "HBoxModel",
          "model_module_version": "1.5.0",
          "state": {
            "_dom_classes": [],
            "_model_module": "@jupyter-widgets/controls",
            "_model_module_version": "1.5.0",
            "_model_name": "HBoxModel",
            "_view_count": null,
            "_view_module": "@jupyter-widgets/controls",
            "_view_module_version": "1.5.0",
            "_view_name": "HBoxView",
            "box_style": "",
            "children": [
              "IPY_MODEL_e621d8ff4a604299895cdf863d65b90b",
              "IPY_MODEL_ce49ac540ec6498692f35332d2b65acf",
              "IPY_MODEL_439a1a4b9c244f05963fb2b86deae20f"
            ],
            "layout": "IPY_MODEL_59400bfb736a45c5ae968de2ca405ab0"
          }
        },
        "e621d8ff4a604299895cdf863d65b90b": {
          "model_module": "@jupyter-widgets/controls",
          "model_name": "HTMLModel",
          "model_module_version": "1.5.0",
          "state": {
            "_dom_classes": [],
            "_model_module": "@jupyter-widgets/controls",
            "_model_module_version": "1.5.0",
            "_model_name": "HTMLModel",
            "_view_count": null,
            "_view_module": "@jupyter-widgets/controls",
            "_view_module_version": "1.5.0",
            "_view_name": "HTMLView",
            "description": "",
            "description_tooltip": null,
            "layout": "IPY_MODEL_6812e0ebe0a7474486b9199d703e0d28",
            "placeholder": "​",
            "style": "IPY_MODEL_3ace12c148714bd38441b7c663dbc993",
            "value": ""
          }
        },
        "ce49ac540ec6498692f35332d2b65acf": {
          "model_module": "@jupyter-widgets/controls",
          "model_name": "FloatProgressModel",
          "model_module_version": "1.5.0",
          "state": {
            "_dom_classes": [],
            "_model_module": "@jupyter-widgets/controls",
            "_model_module_version": "1.5.0",
            "_model_name": "FloatProgressModel",
            "_view_count": null,
            "_view_module": "@jupyter-widgets/controls",
            "_view_module_version": "1.5.0",
            "_view_name": "ProgressView",
            "bar_style": "success",
            "description": "",
            "description_tooltip": null,
            "layout": "IPY_MODEL_dcf421fe7d4b471ab43980aa17c01b3b",
            "max": 29515,
            "min": 0,
            "orientation": "horizontal",
            "style": "IPY_MODEL_2c7197cf8c474104a7f4c370bef3f105",
            "value": 29515
          }
        },
        "439a1a4b9c244f05963fb2b86deae20f": {
          "model_module": "@jupyter-widgets/controls",
          "model_name": "HTMLModel",
          "model_module_version": "1.5.0",
          "state": {
            "_dom_classes": [],
            "_model_module": "@jupyter-widgets/controls",
            "_model_module_version": "1.5.0",
            "_model_name": "HTMLModel",
            "_view_count": null,
            "_view_module": "@jupyter-widgets/controls",
            "_view_module_version": "1.5.0",
            "_view_name": "HTMLView",
            "description": "",
            "description_tooltip": null,
            "layout": "IPY_MODEL_e84a963699534de8b2bd30f21cfb9eec",
            "placeholder": "​",
            "style": "IPY_MODEL_b973279886b140a8875a9560f703344a",
            "value": " 29696/? [00:00&lt;00:00, 303426.26it/s]"
          }
        },
        "59400bfb736a45c5ae968de2ca405ab0": {
          "model_module": "@jupyter-widgets/base",
          "model_name": "LayoutModel",
          "model_module_version": "1.2.0",
          "state": {
            "_model_module": "@jupyter-widgets/base",
            "_model_module_version": "1.2.0",
            "_model_name": "LayoutModel",
            "_view_count": null,
            "_view_module": "@jupyter-widgets/base",
            "_view_module_version": "1.2.0",
            "_view_name": "LayoutView",
            "align_content": null,
            "align_items": null,
            "align_self": null,
            "border": null,
            "bottom": null,
            "display": null,
            "flex": null,
            "flex_flow": null,
            "grid_area": null,
            "grid_auto_columns": null,
            "grid_auto_flow": null,
            "grid_auto_rows": null,
            "grid_column": null,
            "grid_gap": null,
            "grid_row": null,
            "grid_template_areas": null,
            "grid_template_columns": null,
            "grid_template_rows": null,
            "height": null,
            "justify_content": null,
            "justify_items": null,
            "left": null,
            "margin": null,
            "max_height": null,
            "max_width": null,
            "min_height": null,
            "min_width": null,
            "object_fit": null,
            "object_position": null,
            "order": null,
            "overflow": null,
            "overflow_x": null,
            "overflow_y": null,
            "padding": null,
            "right": null,
            "top": null,
            "visibility": null,
            "width": null
          }
        },
        "6812e0ebe0a7474486b9199d703e0d28": {
          "model_module": "@jupyter-widgets/base",
          "model_name": "LayoutModel",
          "model_module_version": "1.2.0",
          "state": {
            "_model_module": "@jupyter-widgets/base",
            "_model_module_version": "1.2.0",
            "_model_name": "LayoutModel",
            "_view_count": null,
            "_view_module": "@jupyter-widgets/base",
            "_view_module_version": "1.2.0",
            "_view_name": "LayoutView",
            "align_content": null,
            "align_items": null,
            "align_self": null,
            "border": null,
            "bottom": null,
            "display": null,
            "flex": null,
            "flex_flow": null,
            "grid_area": null,
            "grid_auto_columns": null,
            "grid_auto_flow": null,
            "grid_auto_rows": null,
            "grid_column": null,
            "grid_gap": null,
            "grid_row": null,
            "grid_template_areas": null,
            "grid_template_columns": null,
            "grid_template_rows": null,
            "height": null,
            "justify_content": null,
            "justify_items": null,
            "left": null,
            "margin": null,
            "max_height": null,
            "max_width": null,
            "min_height": null,
            "min_width": null,
            "object_fit": null,
            "object_position": null,
            "order": null,
            "overflow": null,
            "overflow_x": null,
            "overflow_y": null,
            "padding": null,
            "right": null,
            "top": null,
            "visibility": null,
            "width": null
          }
        },
        "3ace12c148714bd38441b7c663dbc993": {
          "model_module": "@jupyter-widgets/controls",
          "model_name": "DescriptionStyleModel",
          "model_module_version": "1.5.0",
          "state": {
            "_model_module": "@jupyter-widgets/controls",
            "_model_module_version": "1.5.0",
            "_model_name": "DescriptionStyleModel",
            "_view_count": null,
            "_view_module": "@jupyter-widgets/base",
            "_view_module_version": "1.2.0",
            "_view_name": "StyleView",
            "description_width": ""
          }
        },
        "dcf421fe7d4b471ab43980aa17c01b3b": {
          "model_module": "@jupyter-widgets/base",
          "model_name": "LayoutModel",
          "model_module_version": "1.2.0",
          "state": {
            "_model_module": "@jupyter-widgets/base",
            "_model_module_version": "1.2.0",
            "_model_name": "LayoutModel",
            "_view_count": null,
            "_view_module": "@jupyter-widgets/base",
            "_view_module_version": "1.2.0",
            "_view_name": "LayoutView",
            "align_content": null,
            "align_items": null,
            "align_self": null,
            "border": null,
            "bottom": null,
            "display": null,
            "flex": null,
            "flex_flow": null,
            "grid_area": null,
            "grid_auto_columns": null,
            "grid_auto_flow": null,
            "grid_auto_rows": null,
            "grid_column": null,
            "grid_gap": null,
            "grid_row": null,
            "grid_template_areas": null,
            "grid_template_columns": null,
            "grid_template_rows": null,
            "height": null,
            "justify_content": null,
            "justify_items": null,
            "left": null,
            "margin": null,
            "max_height": null,
            "max_width": null,
            "min_height": null,
            "min_width": null,
            "object_fit": null,
            "object_position": null,
            "order": null,
            "overflow": null,
            "overflow_x": null,
            "overflow_y": null,
            "padding": null,
            "right": null,
            "top": null,
            "visibility": null,
            "width": null
          }
        },
        "2c7197cf8c474104a7f4c370bef3f105": {
          "model_module": "@jupyter-widgets/controls",
          "model_name": "ProgressStyleModel",
          "model_module_version": "1.5.0",
          "state": {
            "_model_module": "@jupyter-widgets/controls",
            "_model_module_version": "1.5.0",
            "_model_name": "ProgressStyleModel",
            "_view_count": null,
            "_view_module": "@jupyter-widgets/base",
            "_view_module_version": "1.2.0",
            "_view_name": "StyleView",
            "bar_color": null,
            "description_width": ""
          }
        },
        "e84a963699534de8b2bd30f21cfb9eec": {
          "model_module": "@jupyter-widgets/base",
          "model_name": "LayoutModel",
          "model_module_version": "1.2.0",
          "state": {
            "_model_module": "@jupyter-widgets/base",
            "_model_module_version": "1.2.0",
            "_model_name": "LayoutModel",
            "_view_count": null,
            "_view_module": "@jupyter-widgets/base",
            "_view_module_version": "1.2.0",
            "_view_name": "LayoutView",
            "align_content": null,
            "align_items": null,
            "align_self": null,
            "border": null,
            "bottom": null,
            "display": null,
            "flex": null,
            "flex_flow": null,
            "grid_area": null,
            "grid_auto_columns": null,
            "grid_auto_flow": null,
            "grid_auto_rows": null,
            "grid_column": null,
            "grid_gap": null,
            "grid_row": null,
            "grid_template_areas": null,
            "grid_template_columns": null,
            "grid_template_rows": null,
            "height": null,
            "justify_content": null,
            "justify_items": null,
            "left": null,
            "margin": null,
            "max_height": null,
            "max_width": null,
            "min_height": null,
            "min_width": null,
            "object_fit": null,
            "object_position": null,
            "order": null,
            "overflow": null,
            "overflow_x": null,
            "overflow_y": null,
            "padding": null,
            "right": null,
            "top": null,
            "visibility": null,
            "width": null
          }
        },
        "b973279886b140a8875a9560f703344a": {
          "model_module": "@jupyter-widgets/controls",
          "model_name": "DescriptionStyleModel",
          "model_module_version": "1.5.0",
          "state": {
            "_model_module": "@jupyter-widgets/controls",
            "_model_module_version": "1.5.0",
            "_model_name": "DescriptionStyleModel",
            "_view_count": null,
            "_view_module": "@jupyter-widgets/base",
            "_view_module_version": "1.2.0",
            "_view_name": "StyleView",
            "description_width": ""
          }
        },
        "22d62cb439a64c4a8a37ddd014a83213": {
          "model_module": "@jupyter-widgets/controls",
          "model_name": "HBoxModel",
          "model_module_version": "1.5.0",
          "state": {
            "_dom_classes": [],
            "_model_module": "@jupyter-widgets/controls",
            "_model_module_version": "1.5.0",
            "_model_name": "HBoxModel",
            "_view_count": null,
            "_view_module": "@jupyter-widgets/controls",
            "_view_module_version": "1.5.0",
            "_view_name": "HBoxView",
            "box_style": "",
            "children": [
              "IPY_MODEL_9feffd6efa6c48f9a87c2f9daa73065b",
              "IPY_MODEL_7ce21d4eb3894028820c77f0ec925579",
              "IPY_MODEL_3b9926be2eac449f8178bbf3c658d9cc"
            ],
            "layout": "IPY_MODEL_f729c07456ef459594883a718d771cf3"
          }
        },
        "9feffd6efa6c48f9a87c2f9daa73065b": {
          "model_module": "@jupyter-widgets/controls",
          "model_name": "HTMLModel",
          "model_module_version": "1.5.0",
          "state": {
            "_dom_classes": [],
            "_model_module": "@jupyter-widgets/controls",
            "_model_module_version": "1.5.0",
            "_model_name": "HTMLModel",
            "_view_count": null,
            "_view_module": "@jupyter-widgets/controls",
            "_view_module_version": "1.5.0",
            "_view_name": "HTMLView",
            "description": "",
            "description_tooltip": null,
            "layout": "IPY_MODEL_eed471f3f0b14654bb97b8a5a7598c12",
            "placeholder": "​",
            "style": "IPY_MODEL_43e0701f5d3e461caba119f22d548013",
            "value": ""
          }
        },
        "7ce21d4eb3894028820c77f0ec925579": {
          "model_module": "@jupyter-widgets/controls",
          "model_name": "FloatProgressModel",
          "model_module_version": "1.5.0",
          "state": {
            "_dom_classes": [],
            "_model_module": "@jupyter-widgets/controls",
            "_model_module_version": "1.5.0",
            "_model_name": "FloatProgressModel",
            "_view_count": null,
            "_view_module": "@jupyter-widgets/controls",
            "_view_module_version": "1.5.0",
            "_view_name": "ProgressView",
            "bar_style": "success",
            "description": "",
            "description_tooltip": null,
            "layout": "IPY_MODEL_a747eb0282cc4be7b29abf357e1da83f",
            "max": 4422102,
            "min": 0,
            "orientation": "horizontal",
            "style": "IPY_MODEL_d9f759741d1a49f7bab32c7cd3bbdbf8",
            "value": 4422102
          }
        },
        "3b9926be2eac449f8178bbf3c658d9cc": {
          "model_module": "@jupyter-widgets/controls",
          "model_name": "HTMLModel",
          "model_module_version": "1.5.0",
          "state": {
            "_dom_classes": [],
            "_model_module": "@jupyter-widgets/controls",
            "_model_module_version": "1.5.0",
            "_model_name": "HTMLModel",
            "_view_count": null,
            "_view_module": "@jupyter-widgets/controls",
            "_view_module_version": "1.5.0",
            "_view_name": "HTMLView",
            "description": "",
            "description_tooltip": null,
            "layout": "IPY_MODEL_f78e96d8341146798ac2c3ba851c662e",
            "placeholder": "​",
            "style": "IPY_MODEL_8c203f289c8241378c21a15961668299",
            "value": " 4422656/? [00:00&lt;00:00, 6086600.58it/s]"
          }
        },
        "f729c07456ef459594883a718d771cf3": {
          "model_module": "@jupyter-widgets/base",
          "model_name": "LayoutModel",
          "model_module_version": "1.2.0",
          "state": {
            "_model_module": "@jupyter-widgets/base",
            "_model_module_version": "1.2.0",
            "_model_name": "LayoutModel",
            "_view_count": null,
            "_view_module": "@jupyter-widgets/base",
            "_view_module_version": "1.2.0",
            "_view_name": "LayoutView",
            "align_content": null,
            "align_items": null,
            "align_self": null,
            "border": null,
            "bottom": null,
            "display": null,
            "flex": null,
            "flex_flow": null,
            "grid_area": null,
            "grid_auto_columns": null,
            "grid_auto_flow": null,
            "grid_auto_rows": null,
            "grid_column": null,
            "grid_gap": null,
            "grid_row": null,
            "grid_template_areas": null,
            "grid_template_columns": null,
            "grid_template_rows": null,
            "height": null,
            "justify_content": null,
            "justify_items": null,
            "left": null,
            "margin": null,
            "max_height": null,
            "max_width": null,
            "min_height": null,
            "min_width": null,
            "object_fit": null,
            "object_position": null,
            "order": null,
            "overflow": null,
            "overflow_x": null,
            "overflow_y": null,
            "padding": null,
            "right": null,
            "top": null,
            "visibility": null,
            "width": null
          }
        },
        "eed471f3f0b14654bb97b8a5a7598c12": {
          "model_module": "@jupyter-widgets/base",
          "model_name": "LayoutModel",
          "model_module_version": "1.2.0",
          "state": {
            "_model_module": "@jupyter-widgets/base",
            "_model_module_version": "1.2.0",
            "_model_name": "LayoutModel",
            "_view_count": null,
            "_view_module": "@jupyter-widgets/base",
            "_view_module_version": "1.2.0",
            "_view_name": "LayoutView",
            "align_content": null,
            "align_items": null,
            "align_self": null,
            "border": null,
            "bottom": null,
            "display": null,
            "flex": null,
            "flex_flow": null,
            "grid_area": null,
            "grid_auto_columns": null,
            "grid_auto_flow": null,
            "grid_auto_rows": null,
            "grid_column": null,
            "grid_gap": null,
            "grid_row": null,
            "grid_template_areas": null,
            "grid_template_columns": null,
            "grid_template_rows": null,
            "height": null,
            "justify_content": null,
            "justify_items": null,
            "left": null,
            "margin": null,
            "max_height": null,
            "max_width": null,
            "min_height": null,
            "min_width": null,
            "object_fit": null,
            "object_position": null,
            "order": null,
            "overflow": null,
            "overflow_x": null,
            "overflow_y": null,
            "padding": null,
            "right": null,
            "top": null,
            "visibility": null,
            "width": null
          }
        },
        "43e0701f5d3e461caba119f22d548013": {
          "model_module": "@jupyter-widgets/controls",
          "model_name": "DescriptionStyleModel",
          "model_module_version": "1.5.0",
          "state": {
            "_model_module": "@jupyter-widgets/controls",
            "_model_module_version": "1.5.0",
            "_model_name": "DescriptionStyleModel",
            "_view_count": null,
            "_view_module": "@jupyter-widgets/base",
            "_view_module_version": "1.2.0",
            "_view_name": "StyleView",
            "description_width": ""
          }
        },
        "a747eb0282cc4be7b29abf357e1da83f": {
          "model_module": "@jupyter-widgets/base",
          "model_name": "LayoutModel",
          "model_module_version": "1.2.0",
          "state": {
            "_model_module": "@jupyter-widgets/base",
            "_model_module_version": "1.2.0",
            "_model_name": "LayoutModel",
            "_view_count": null,
            "_view_module": "@jupyter-widgets/base",
            "_view_module_version": "1.2.0",
            "_view_name": "LayoutView",
            "align_content": null,
            "align_items": null,
            "align_self": null,
            "border": null,
            "bottom": null,
            "display": null,
            "flex": null,
            "flex_flow": null,
            "grid_area": null,
            "grid_auto_columns": null,
            "grid_auto_flow": null,
            "grid_auto_rows": null,
            "grid_column": null,
            "grid_gap": null,
            "grid_row": null,
            "grid_template_areas": null,
            "grid_template_columns": null,
            "grid_template_rows": null,
            "height": null,
            "justify_content": null,
            "justify_items": null,
            "left": null,
            "margin": null,
            "max_height": null,
            "max_width": null,
            "min_height": null,
            "min_width": null,
            "object_fit": null,
            "object_position": null,
            "order": null,
            "overflow": null,
            "overflow_x": null,
            "overflow_y": null,
            "padding": null,
            "right": null,
            "top": null,
            "visibility": null,
            "width": null
          }
        },
        "d9f759741d1a49f7bab32c7cd3bbdbf8": {
          "model_module": "@jupyter-widgets/controls",
          "model_name": "ProgressStyleModel",
          "model_module_version": "1.5.0",
          "state": {
            "_model_module": "@jupyter-widgets/controls",
            "_model_module_version": "1.5.0",
            "_model_name": "ProgressStyleModel",
            "_view_count": null,
            "_view_module": "@jupyter-widgets/base",
            "_view_module_version": "1.2.0",
            "_view_name": "StyleView",
            "bar_color": null,
            "description_width": ""
          }
        },
        "f78e96d8341146798ac2c3ba851c662e": {
          "model_module": "@jupyter-widgets/base",
          "model_name": "LayoutModel",
          "model_module_version": "1.2.0",
          "state": {
            "_model_module": "@jupyter-widgets/base",
            "_model_module_version": "1.2.0",
            "_model_name": "LayoutModel",
            "_view_count": null,
            "_view_module": "@jupyter-widgets/base",
            "_view_module_version": "1.2.0",
            "_view_name": "LayoutView",
            "align_content": null,
            "align_items": null,
            "align_self": null,
            "border": null,
            "bottom": null,
            "display": null,
            "flex": null,
            "flex_flow": null,
            "grid_area": null,
            "grid_auto_columns": null,
            "grid_auto_flow": null,
            "grid_auto_rows": null,
            "grid_column": null,
            "grid_gap": null,
            "grid_row": null,
            "grid_template_areas": null,
            "grid_template_columns": null,
            "grid_template_rows": null,
            "height": null,
            "justify_content": null,
            "justify_items": null,
            "left": null,
            "margin": null,
            "max_height": null,
            "max_width": null,
            "min_height": null,
            "min_width": null,
            "object_fit": null,
            "object_position": null,
            "order": null,
            "overflow": null,
            "overflow_x": null,
            "overflow_y": null,
            "padding": null,
            "right": null,
            "top": null,
            "visibility": null,
            "width": null
          }
        },
        "8c203f289c8241378c21a15961668299": {
          "model_module": "@jupyter-widgets/controls",
          "model_name": "DescriptionStyleModel",
          "model_module_version": "1.5.0",
          "state": {
            "_model_module": "@jupyter-widgets/controls",
            "_model_module_version": "1.5.0",
            "_model_name": "DescriptionStyleModel",
            "_view_count": null,
            "_view_module": "@jupyter-widgets/base",
            "_view_module_version": "1.2.0",
            "_view_name": "StyleView",
            "description_width": ""
          }
        },
        "8f3e5647fd44488c8150c813f093011b": {
          "model_module": "@jupyter-widgets/controls",
          "model_name": "HBoxModel",
          "model_module_version": "1.5.0",
          "state": {
            "_dom_classes": [],
            "_model_module": "@jupyter-widgets/controls",
            "_model_module_version": "1.5.0",
            "_model_name": "HBoxModel",
            "_view_count": null,
            "_view_module": "@jupyter-widgets/controls",
            "_view_module_version": "1.5.0",
            "_view_name": "HBoxView",
            "box_style": "",
            "children": [
              "IPY_MODEL_f66adc71b0e74fff9967f78f4bdd3f1e",
              "IPY_MODEL_242b01f878764f78a60612ed92eaf74f",
              "IPY_MODEL_2e13c2e7806240bc95b9a11e3555d932"
            ],
            "layout": "IPY_MODEL_32ef60b78a7e4da9a4ff02a5dbf32a99"
          }
        },
        "f66adc71b0e74fff9967f78f4bdd3f1e": {
          "model_module": "@jupyter-widgets/controls",
          "model_name": "HTMLModel",
          "model_module_version": "1.5.0",
          "state": {
            "_dom_classes": [],
            "_model_module": "@jupyter-widgets/controls",
            "_model_module_version": "1.5.0",
            "_model_name": "HTMLModel",
            "_view_count": null,
            "_view_module": "@jupyter-widgets/controls",
            "_view_module_version": "1.5.0",
            "_view_name": "HTMLView",
            "description": "",
            "description_tooltip": null,
            "layout": "IPY_MODEL_1b041fd3b8774449864c541d3834ab77",
            "placeholder": "​",
            "style": "IPY_MODEL_9777cae3d1a0452da0669c80ed660fa1",
            "value": ""
          }
        },
        "242b01f878764f78a60612ed92eaf74f": {
          "model_module": "@jupyter-widgets/controls",
          "model_name": "FloatProgressModel",
          "model_module_version": "1.5.0",
          "state": {
            "_dom_classes": [],
            "_model_module": "@jupyter-widgets/controls",
            "_model_module_version": "1.5.0",
            "_model_name": "FloatProgressModel",
            "_view_count": null,
            "_view_module": "@jupyter-widgets/controls",
            "_view_module_version": "1.5.0",
            "_view_name": "ProgressView",
            "bar_style": "success",
            "description": "",
            "description_tooltip": null,
            "layout": "IPY_MODEL_87f582f841bb416987232b55d5821127",
            "max": 5148,
            "min": 0,
            "orientation": "horizontal",
            "style": "IPY_MODEL_7052a98cc59d4434ad64145670735fa9",
            "value": 5148
          }
        },
        "2e13c2e7806240bc95b9a11e3555d932": {
          "model_module": "@jupyter-widgets/controls",
          "model_name": "HTMLModel",
          "model_module_version": "1.5.0",
          "state": {
            "_dom_classes": [],
            "_model_module": "@jupyter-widgets/controls",
            "_model_module_version": "1.5.0",
            "_model_name": "HTMLModel",
            "_view_count": null,
            "_view_module": "@jupyter-widgets/controls",
            "_view_module_version": "1.5.0",
            "_view_name": "HTMLView",
            "description": "",
            "description_tooltip": null,
            "layout": "IPY_MODEL_22a36f5bcd9544e8b70e1f512459cdd3",
            "placeholder": "​",
            "style": "IPY_MODEL_05e4dad819e446f6ad6cb70da93a37d5",
            "value": " 6144/? [00:00&lt;00:00, 171803.27it/s]"
          }
        },
        "32ef60b78a7e4da9a4ff02a5dbf32a99": {
          "model_module": "@jupyter-widgets/base",
          "model_name": "LayoutModel",
          "model_module_version": "1.2.0",
          "state": {
            "_model_module": "@jupyter-widgets/base",
            "_model_module_version": "1.2.0",
            "_model_name": "LayoutModel",
            "_view_count": null,
            "_view_module": "@jupyter-widgets/base",
            "_view_module_version": "1.2.0",
            "_view_name": "LayoutView",
            "align_content": null,
            "align_items": null,
            "align_self": null,
            "border": null,
            "bottom": null,
            "display": null,
            "flex": null,
            "flex_flow": null,
            "grid_area": null,
            "grid_auto_columns": null,
            "grid_auto_flow": null,
            "grid_auto_rows": null,
            "grid_column": null,
            "grid_gap": null,
            "grid_row": null,
            "grid_template_areas": null,
            "grid_template_columns": null,
            "grid_template_rows": null,
            "height": null,
            "justify_content": null,
            "justify_items": null,
            "left": null,
            "margin": null,
            "max_height": null,
            "max_width": null,
            "min_height": null,
            "min_width": null,
            "object_fit": null,
            "object_position": null,
            "order": null,
            "overflow": null,
            "overflow_x": null,
            "overflow_y": null,
            "padding": null,
            "right": null,
            "top": null,
            "visibility": null,
            "width": null
          }
        },
        "1b041fd3b8774449864c541d3834ab77": {
          "model_module": "@jupyter-widgets/base",
          "model_name": "LayoutModel",
          "model_module_version": "1.2.0",
          "state": {
            "_model_module": "@jupyter-widgets/base",
            "_model_module_version": "1.2.0",
            "_model_name": "LayoutModel",
            "_view_count": null,
            "_view_module": "@jupyter-widgets/base",
            "_view_module_version": "1.2.0",
            "_view_name": "LayoutView",
            "align_content": null,
            "align_items": null,
            "align_self": null,
            "border": null,
            "bottom": null,
            "display": null,
            "flex": null,
            "flex_flow": null,
            "grid_area": null,
            "grid_auto_columns": null,
            "grid_auto_flow": null,
            "grid_auto_rows": null,
            "grid_column": null,
            "grid_gap": null,
            "grid_row": null,
            "grid_template_areas": null,
            "grid_template_columns": null,
            "grid_template_rows": null,
            "height": null,
            "justify_content": null,
            "justify_items": null,
            "left": null,
            "margin": null,
            "max_height": null,
            "max_width": null,
            "min_height": null,
            "min_width": null,
            "object_fit": null,
            "object_position": null,
            "order": null,
            "overflow": null,
            "overflow_x": null,
            "overflow_y": null,
            "padding": null,
            "right": null,
            "top": null,
            "visibility": null,
            "width": null
          }
        },
        "9777cae3d1a0452da0669c80ed660fa1": {
          "model_module": "@jupyter-widgets/controls",
          "model_name": "DescriptionStyleModel",
          "model_module_version": "1.5.0",
          "state": {
            "_model_module": "@jupyter-widgets/controls",
            "_model_module_version": "1.5.0",
            "_model_name": "DescriptionStyleModel",
            "_view_count": null,
            "_view_module": "@jupyter-widgets/base",
            "_view_module_version": "1.2.0",
            "_view_name": "StyleView",
            "description_width": ""
          }
        },
        "87f582f841bb416987232b55d5821127": {
          "model_module": "@jupyter-widgets/base",
          "model_name": "LayoutModel",
          "model_module_version": "1.2.0",
          "state": {
            "_model_module": "@jupyter-widgets/base",
            "_model_module_version": "1.2.0",
            "_model_name": "LayoutModel",
            "_view_count": null,
            "_view_module": "@jupyter-widgets/base",
            "_view_module_version": "1.2.0",
            "_view_name": "LayoutView",
            "align_content": null,
            "align_items": null,
            "align_self": null,
            "border": null,
            "bottom": null,
            "display": null,
            "flex": null,
            "flex_flow": null,
            "grid_area": null,
            "grid_auto_columns": null,
            "grid_auto_flow": null,
            "grid_auto_rows": null,
            "grid_column": null,
            "grid_gap": null,
            "grid_row": null,
            "grid_template_areas": null,
            "grid_template_columns": null,
            "grid_template_rows": null,
            "height": null,
            "justify_content": null,
            "justify_items": null,
            "left": null,
            "margin": null,
            "max_height": null,
            "max_width": null,
            "min_height": null,
            "min_width": null,
            "object_fit": null,
            "object_position": null,
            "order": null,
            "overflow": null,
            "overflow_x": null,
            "overflow_y": null,
            "padding": null,
            "right": null,
            "top": null,
            "visibility": null,
            "width": null
          }
        },
        "7052a98cc59d4434ad64145670735fa9": {
          "model_module": "@jupyter-widgets/controls",
          "model_name": "ProgressStyleModel",
          "model_module_version": "1.5.0",
          "state": {
            "_model_module": "@jupyter-widgets/controls",
            "_model_module_version": "1.5.0",
            "_model_name": "ProgressStyleModel",
            "_view_count": null,
            "_view_module": "@jupyter-widgets/base",
            "_view_module_version": "1.2.0",
            "_view_name": "StyleView",
            "bar_color": null,
            "description_width": ""
          }
        },
        "22a36f5bcd9544e8b70e1f512459cdd3": {
          "model_module": "@jupyter-widgets/base",
          "model_name": "LayoutModel",
          "model_module_version": "1.2.0",
          "state": {
            "_model_module": "@jupyter-widgets/base",
            "_model_module_version": "1.2.0",
            "_model_name": "LayoutModel",
            "_view_count": null,
            "_view_module": "@jupyter-widgets/base",
            "_view_module_version": "1.2.0",
            "_view_name": "LayoutView",
            "align_content": null,
            "align_items": null,
            "align_self": null,
            "border": null,
            "bottom": null,
            "display": null,
            "flex": null,
            "flex_flow": null,
            "grid_area": null,
            "grid_auto_columns": null,
            "grid_auto_flow": null,
            "grid_auto_rows": null,
            "grid_column": null,
            "grid_gap": null,
            "grid_row": null,
            "grid_template_areas": null,
            "grid_template_columns": null,
            "grid_template_rows": null,
            "height": null,
            "justify_content": null,
            "justify_items": null,
            "left": null,
            "margin": null,
            "max_height": null,
            "max_width": null,
            "min_height": null,
            "min_width": null,
            "object_fit": null,
            "object_position": null,
            "order": null,
            "overflow": null,
            "overflow_x": null,
            "overflow_y": null,
            "padding": null,
            "right": null,
            "top": null,
            "visibility": null,
            "width": null
          }
        },
        "05e4dad819e446f6ad6cb70da93a37d5": {
          "model_module": "@jupyter-widgets/controls",
          "model_name": "DescriptionStyleModel",
          "model_module_version": "1.5.0",
          "state": {
            "_model_module": "@jupyter-widgets/controls",
            "_model_module_version": "1.5.0",
            "_model_name": "DescriptionStyleModel",
            "_view_count": null,
            "_view_module": "@jupyter-widgets/base",
            "_view_module_version": "1.2.0",
            "_view_name": "StyleView",
            "description_width": ""
          }
        }
      }
    }
  },
  "cells": [
    {
      "cell_type": "code",
      "execution_count": 1,
      "metadata": {
        "id": "jO6gG8FiH7tr"
      },
      "outputs": [],
      "source": [
        "import torch\n",
        "import numpy as np\n",
        "from torch import nn\n",
        "import my_utils as mu\n",
        "import torchvision\n",
        "from torchvision import transforms \n",
        "from torch.utils import data\n",
        "import matplotlib.pyplot as plt\n",
        "import torch.nn.functional as F\n",
        "\n",
        "from torchvision import datasets\n",
        "\n",
        "from torch.utils.data import Dataset\n",
        "\n",
        "from torchvision.transforms import ToTensor\n",
        "\n",
        "\n"
      ]
    },
    {
      "cell_type": "code",
      "source": [
        "\n",
        "trans = transforms.ToTensor()\n",
        "mnist_train = torchvision.datasets.FashionMNIST(\n",
        "    root=\"../data\", train=True, transform=trans, download=True)\n",
        "mnist_test = torchvision.datasets.FashionMNIST(\n",
        "    root=\"../data\", train=False, transform=trans, download=True)\n"
      ],
      "metadata": {
        "id": "haUEHc0mICEw",
        "colab": {
          "base_uri": "https://localhost:8080/",
          "height": 437,
          "referenced_widgets": [
            "51bf9a999fae4a59be72b348a7707fe6",
            "fe3468d764c74bbf86affbe839bafadb",
            "fa7467364ca5442ca299e5211da0bd54",
            "27a16f8e814b4e9bb8e4b373528b47f8",
            "30c5c8a64b52402293b8c46e4cd69ca6",
            "1a816b41ad4f4180bd0aac0000cbfbb5",
            "b2f87b7d15db4663bcb7d0e5e7ae1e37",
            "eb85cc0f657e4a7aaf28f4336ccf4b88",
            "18f6870b4c2f46c49150203983c058c8",
            "2d791cef67894b92a86139530d247ddc",
            "00039402804f4f3b8165011faac111f1",
            "b8e95d2976fc44748ecef02c61ce63cb",
            "e621d8ff4a604299895cdf863d65b90b",
            "ce49ac540ec6498692f35332d2b65acf",
            "439a1a4b9c244f05963fb2b86deae20f",
            "59400bfb736a45c5ae968de2ca405ab0",
            "6812e0ebe0a7474486b9199d703e0d28",
            "3ace12c148714bd38441b7c663dbc993",
            "dcf421fe7d4b471ab43980aa17c01b3b",
            "2c7197cf8c474104a7f4c370bef3f105",
            "e84a963699534de8b2bd30f21cfb9eec",
            "b973279886b140a8875a9560f703344a",
            "22d62cb439a64c4a8a37ddd014a83213",
            "9feffd6efa6c48f9a87c2f9daa73065b",
            "7ce21d4eb3894028820c77f0ec925579",
            "3b9926be2eac449f8178bbf3c658d9cc",
            "f729c07456ef459594883a718d771cf3",
            "eed471f3f0b14654bb97b8a5a7598c12",
            "43e0701f5d3e461caba119f22d548013",
            "a747eb0282cc4be7b29abf357e1da83f",
            "d9f759741d1a49f7bab32c7cd3bbdbf8",
            "f78e96d8341146798ac2c3ba851c662e",
            "8c203f289c8241378c21a15961668299",
            "8f3e5647fd44488c8150c813f093011b",
            "f66adc71b0e74fff9967f78f4bdd3f1e",
            "242b01f878764f78a60612ed92eaf74f",
            "2e13c2e7806240bc95b9a11e3555d932",
            "32ef60b78a7e4da9a4ff02a5dbf32a99",
            "1b041fd3b8774449864c541d3834ab77",
            "9777cae3d1a0452da0669c80ed660fa1",
            "87f582f841bb416987232b55d5821127",
            "7052a98cc59d4434ad64145670735fa9",
            "22a36f5bcd9544e8b70e1f512459cdd3",
            "05e4dad819e446f6ad6cb70da93a37d5"
          ]
        },
        "outputId": "210d4256-f5a7-4000-eead-0ed95bb149c2"
      },
      "execution_count": 2,
      "outputs": [
        {
          "output_type": "stream",
          "name": "stdout",
          "text": [
            "Downloading http://fashion-mnist.s3-website.eu-central-1.amazonaws.com/train-images-idx3-ubyte.gz\n",
            "Downloading http://fashion-mnist.s3-website.eu-central-1.amazonaws.com/train-images-idx3-ubyte.gz to ../data/FashionMNIST/raw/train-images-idx3-ubyte.gz\n"
          ]
        },
        {
          "output_type": "display_data",
          "data": {
            "text/plain": [
              "  0%|          | 0/26421880 [00:00<?, ?it/s]"
            ],
            "application/vnd.jupyter.widget-view+json": {
              "version_major": 2,
              "version_minor": 0,
              "model_id": "51bf9a999fae4a59be72b348a7707fe6"
            }
          },
          "metadata": {}
        },
        {
          "output_type": "stream",
          "name": "stdout",
          "text": [
            "Extracting ../data/FashionMNIST/raw/train-images-idx3-ubyte.gz to ../data/FashionMNIST/raw\n",
            "\n",
            "Downloading http://fashion-mnist.s3-website.eu-central-1.amazonaws.com/train-labels-idx1-ubyte.gz\n",
            "Downloading http://fashion-mnist.s3-website.eu-central-1.amazonaws.com/train-labels-idx1-ubyte.gz to ../data/FashionMNIST/raw/train-labels-idx1-ubyte.gz\n"
          ]
        },
        {
          "output_type": "display_data",
          "data": {
            "text/plain": [
              "  0%|          | 0/29515 [00:00<?, ?it/s]"
            ],
            "application/vnd.jupyter.widget-view+json": {
              "version_major": 2,
              "version_minor": 0,
              "model_id": "b8e95d2976fc44748ecef02c61ce63cb"
            }
          },
          "metadata": {}
        },
        {
          "output_type": "stream",
          "name": "stdout",
          "text": [
            "Extracting ../data/FashionMNIST/raw/train-labels-idx1-ubyte.gz to ../data/FashionMNIST/raw\n",
            "\n",
            "Downloading http://fashion-mnist.s3-website.eu-central-1.amazonaws.com/t10k-images-idx3-ubyte.gz\n",
            "Downloading http://fashion-mnist.s3-website.eu-central-1.amazonaws.com/t10k-images-idx3-ubyte.gz to ../data/FashionMNIST/raw/t10k-images-idx3-ubyte.gz\n"
          ]
        },
        {
          "output_type": "display_data",
          "data": {
            "text/plain": [
              "  0%|          | 0/4422102 [00:00<?, ?it/s]"
            ],
            "application/vnd.jupyter.widget-view+json": {
              "version_major": 2,
              "version_minor": 0,
              "model_id": "22d62cb439a64c4a8a37ddd014a83213"
            }
          },
          "metadata": {}
        },
        {
          "output_type": "stream",
          "name": "stdout",
          "text": [
            "Extracting ../data/FashionMNIST/raw/t10k-images-idx3-ubyte.gz to ../data/FashionMNIST/raw\n",
            "\n",
            "Downloading http://fashion-mnist.s3-website.eu-central-1.amazonaws.com/t10k-labels-idx1-ubyte.gz\n",
            "Downloading http://fashion-mnist.s3-website.eu-central-1.amazonaws.com/t10k-labels-idx1-ubyte.gz to ../data/FashionMNIST/raw/t10k-labels-idx1-ubyte.gz\n"
          ]
        },
        {
          "output_type": "display_data",
          "data": {
            "text/plain": [
              "  0%|          | 0/5148 [00:00<?, ?it/s]"
            ],
            "application/vnd.jupyter.widget-view+json": {
              "version_major": 2,
              "version_minor": 0,
              "model_id": "8f3e5647fd44488c8150c813f093011b"
            }
          },
          "metadata": {}
        },
        {
          "output_type": "stream",
          "name": "stdout",
          "text": [
            "Extracting ../data/FashionMNIST/raw/t10k-labels-idx1-ubyte.gz to ../data/FashionMNIST/raw\n",
            "\n"
          ]
        }
      ]
    },
    {
      "cell_type": "code",
      "source": [
        "#load dataset\n",
        "trainDataLoader = torch.utils.data.DataLoader(dataset=mnist_train, batch_size=20, shuffle=True)\n",
        "testDataLoader = torch.utils.data.DataLoader(dataset=mnist_test, batch_size=20, shuffle=True)"
      ],
      "metadata": {
        "id": "7LFbRCjAIFED"
      },
      "execution_count": 3,
      "outputs": []
    },
    {
      "cell_type": "code",
      "source": [
        "def get_fashion_mnist_labels(labels):  \n",
        "    \"\"\"Return text labels for the Fashion-MNIST dataset.\"\"\"\n",
        "    text_labels = ['t-shirt', 'trouser', 'pullover', 'dress', 'coat',\n",
        "                   'sandal', 'shirt', 'sneaker', 'bag', 'ankle boot']\n",
        "    return [text_labels[int(i)] for i in labels]"
      ],
      "metadata": {
        "id": "D6KcAPV9INOd"
      },
      "execution_count": 4,
      "outputs": []
    },
    {
      "cell_type": "code",
      "source": [
        "# Examine a sample\n",
        "dataiter = iter(trainDataLoader)\n",
        "images, labels = dataiter.next()\n",
        "print(type(images))\n",
        "print(images.shape)\n",
        "print(labels.shape)"
      ],
      "metadata": {
        "colab": {
          "base_uri": "https://localhost:8080/"
        },
        "id": "g5gE7OJnuF-A",
        "outputId": "dea9eeee-7762-4994-d1b9-c8f64afcd920"
      },
      "execution_count": 5,
      "outputs": [
        {
          "output_type": "stream",
          "name": "stdout",
          "text": [
            "<class 'torch.Tensor'>\n",
            "torch.Size([20, 1, 28, 28])\n",
            "torch.Size([20])\n"
          ]
        }
      ]
    },
    {
      "cell_type": "code",
      "source": [
        "plt.imshow(images[19].numpy().squeeze(), cmap = 'Greys_r')"
      ],
      "metadata": {
        "colab": {
          "base_uri": "https://localhost:8080/",
          "height": 282
        },
        "id": "s4TiWhTvuS56",
        "outputId": "9a112bf8-f6f0-43fa-ee44-cb0c8393d1e1"
      },
      "execution_count": 6,
      "outputs": [
        {
          "output_type": "execute_result",
          "data": {
            "text/plain": [
              "<matplotlib.image.AxesImage at 0x7f6bf3fb9290>"
            ]
          },
          "metadata": {},
          "execution_count": 6
        },
        {
          "output_type": "display_data",
          "data": {
            "text/plain": [
              "<Figure size 432x288 with 1 Axes>"
            ],
            "image/png": "[encoded data removed]"
          },
          "metadata": {
            "needs_background": "light"
          }
        }
      ]
    },
    {
      "cell_type": "code",
      "source": [
        "class Net(torch.nn.Module):\n",
        "    def __init__(self, num_inputs, num_hidden,num_hiddenn,num_hiddennn, num_outputs):\n",
        "        super(Net, self).__init__()\n",
        "        self.num_inputs = num_inputs\n",
        "        self.num_hidden = num_hidden\n",
        "        self.num_outputs = num_outputs\n",
        "        self.Linear1 = nn.Linear(num_inputs,  num_hidden)\n",
        "        self.Linear2 = nn.Linear(num_hidden,  num_hiddenn)\n",
        "        self.Linear3 = nn.Linear(num_hiddenn, num_hiddennn)\n",
        "        self.Linear4 = nn.Linear(num_hiddennn, num_outputs)\n",
        "        \n",
        "        W1=torch.nn.init.normal_(self.Linear1.weight, std=0.01) #init the weights\n",
        "        W2=torch.nn.init.normal_(self.Linear2.weight, std=0.01) #init the weights  \n",
        "        W3=torch.nn.init.normal_(self.Linear3.weight, std=0.01) #init the weights\n",
        "        W4=torch.nn.init.normal_(self.Linear4.weight, std=0.01) #init the weights\n",
        "        B1 = torch.nn.init.zeros_(self.Linear1.bias) #init the bias\n",
        "        B2 = torch.nn.init.zeros_(self.Linear2.bias) #init the bias\n",
        "        B3 = torch.nn.init.zeros_(self.Linear3.bias) #init the bias\n",
        "        B4 = torch.nn.init.zeros_(self.Linear4.bias) #init the bias\n",
        "\n",
        "        self.relu = nn.ReLU()\n",
        "        self.sigmoid = nn.Sigmoid()\n",
        "    def forward(self, x):\n",
        "\n",
        "        patch=(20,1)\n",
        "        x2d = x.reshape(1,1,-1,num_inputs)\n",
        "        h,w = patch\n",
        "        c=x2d.size(1)\n",
        "        \n",
        "        # unfold(dimension, size, step)\n",
        "        patches = x2d.unfold(2,h,1).unfold(3,w,1).transpose(1,3).reshape(-1, c, h, w)\n",
        "        #print(patches.shape)\n",
        "        #print(patches) # result\n",
        "\n",
        "        #x = x.unfold(1,1,28)\n",
        "        x = patches.view(num_inputs, -1)\n",
        "\n",
        "        x = torch.t(x)\n",
        "        x = self.Linear1(x)\n",
        "        x = self.relu(x)\n",
        "        o1 = self.Linear2(x)\n",
        "        \n",
        "        #o1 = torch.t(o1)\n",
        "        o = self.Linear3(o1)\n",
        "        o = self.relu(o)\n",
        "\n",
        "        o2 = self.Linear4(o)\n",
        "      \n",
        "        return o2\n",
        "\n",
        "num_inputs, num_hidden,num_hiddenn,num_hiddennn, num_outputs = 784, 256, 128, 64, 10\n",
        "net = Net(num_inputs, num_hidden,num_hiddenn,num_hiddennn, num_outputs)\n"
      ],
      "metadata": {
        "id": "qQDj4udmIPoX"
      },
      "execution_count": 16,
      "outputs": []
    },
    {
      "cell_type": "code",
      "source": [
        "loss = nn.CrossEntropyLoss()\n",
        "lr, wd = 0.1, 0\n"
      ],
      "metadata": {
        "id": "25Pw_q0tOx4l"
      },
      "execution_count": 17,
      "outputs": []
    },
    {
      "cell_type": "code",
      "source": [
        "updater = torch.optim.SGD(net.parameters(), lr=lr, weight_decay=wd) \n"
      ],
      "metadata": {
        "id": "zY2WmeutUMav"
      },
      "execution_count": 18,
      "outputs": []
    },
    {
      "cell_type": "code",
      "source": [
        "num_epochs=90\n",
        "mu.train_ch3(net, trainDataLoader, testDataLoader, loss, num_epochs, updater)"
      ],
      "metadata": {
        "colab": {
          "base_uri": "https://localhost:8080/",
          "height": 262
        },
        "id": "xjagpqzHuv0T",
        "outputId": "adb80c7c-f64a-41a9-a513-4bad615bc745"
      },
      "execution_count": 19,
      "outputs": [
        {
          "output_type": "display_data",
          "data": {
            "text/plain": [
              "<Figure size 252x180 with 1 Axes>"
            ],
            "image/svg+xml": "<?xml version=\"1.0\" encoding=\"utf-8\" standalone=\"no\"?>\n<!DOCTYPE svg PUBLIC \"-//W3C//DTD SVG 1.1//EN\"\n  \"http://www.w3.org/Graphics/SVG/1.1/DTD/svg11.dtd\">\n<!-- Created with matplotlib (https://matplotlib.org/) -->\n<svg height=\"180.65625pt\" version=\"1.1\" viewBox=\"0 0 232.603125 180.65625\" width=\"232.603125pt\" xmlns=\"http://www.w3.org/2000/svg\" xmlns:xlink=\"http://www.w3.org/1999/xlink\">\n <defs>\n  <style type=\"text/css\">\n*{stroke-linecap:butt;stroke-linejoin:round;}\n  </style>\n </defs>\n <g id=\"figure_1\">\n  <g id=\"patch_1\">\n   <path d=\"M 0 180.65625 \nL 232.603125 180.65625 \nL 232.603125 0 \nL 0 0 \nz\n\" style=\"fill:none;\"/>\n  </g>\n  <g id=\"axes_1\">\n   <g id=\"patch_2\">\n    <path d=\"M 30.103125 143.1 \nL 225.403125 143.1 \nL 225.403125 7.2 \nL 30.103125 7.2 \nz\n\" style=\"fill:#ffffff;\"/>\n   </g>\n   <g id=\"matplotlib.axis_1\">\n    <g id=\"xtick_1\">\n     <g id=\"line2d_1\">\n      <path clip-path=\"url(#p7194f50029)\" d=\"M 71.796383 143.1 \nL 71.796383 7.2 \n\" style=\"fill:none;stroke:#b0b0b0;stroke-linecap:square;stroke-width:0.8;\"/>\n     </g>\n     <g id=\"line2d_2\">\n      <defs>\n       <path d=\"M 0 0 \nL 0 3.5 \n\" id=\"m7e3a4de662\" style=\"stroke:#000000;stroke-width:0.8;\"/>\n      </defs>\n      <g>\n       <use style=\"stroke:#000000;stroke-width:0.8;\" x=\"71.796383\" xlink:href=\"#m7e3a4de662\" y=\"143.1\"/>\n      </g>\n     </g>\n     <g id=\"text_1\">\n      <!-- 20 -->\n      <defs>\n       <path d=\"M 19.1875 8.296875 \nL 53.609375 8.296875 \nL 53.609375 0 \nL 7.328125 0 \nL 7.328125 8.296875 \nQ 12.9375 14.109375 22.625 23.890625 \nQ 32.328125 33.6875 34.8125 36.53125 \nQ 39.546875 41.84375 41.421875 45.53125 \nQ 43.3125 49.21875 43.3125 52.78125 \nQ 43.3125 58.59375 39.234375 62.25 \nQ 35.15625 65.921875 28.609375 65.921875 \nQ 23.96875 65.921875 18.8125 64.3125 \nQ 13.671875 62.703125 7.8125 59.421875 \nL 7.8125 69.390625 \nQ 13.765625 71.78125 18.9375 73 \nQ 24.125 74.21875 28.421875 74.21875 \nQ 39.75 74.21875 46.484375 68.546875 \nQ 53.21875 62.890625 53.21875 53.421875 \nQ 53.21875 48.921875 51.53125 44.890625 \nQ 49.859375 40.875 45.40625 35.40625 \nQ 44.1875 33.984375 37.640625 27.21875 \nQ 31.109375 20.453125 19.1875 8.296875 \nz\n\" id=\"DejaVuSans-50\"/>\n       <path d=\"M 31.78125 66.40625 \nQ 24.171875 66.40625 20.328125 58.90625 \nQ 16.5 51.421875 16.5 36.375 \nQ 16.5 21.390625 20.328125 13.890625 \nQ 24.171875 6.390625 31.78125 6.390625 \nQ 39.453125 6.390625 43.28125 13.890625 \nQ 47.125 21.390625 47.125 36.375 \nQ 47.125 51.421875 43.28125 58.90625 \nQ 39.453125 66.40625 31.78125 66.40625 \nz\nM 31.78125 74.21875 \nQ 44.046875 74.21875 50.515625 64.515625 \nQ 56.984375 54.828125 56.984375 36.375 \nQ 56.984375 17.96875 50.515625 8.265625 \nQ 44.046875 -1.421875 31.78125 -1.421875 \nQ 19.53125 -1.421875 13.0625 8.265625 \nQ 6.59375 17.96875 6.59375 36.375 \nQ 6.59375 54.828125 13.0625 64.515625 \nQ 19.53125 74.21875 31.78125 74.21875 \nz\n\" id=\"DejaVuSans-48\"/>\n      </defs>\n      <g transform=\"translate(65.433883 157.698438)scale(0.1 -0.1)\">\n       <use xlink:href=\"#DejaVuSans-50\"/>\n       <use x=\"63.623047\" xlink:href=\"#DejaVuSans-48\"/>\n      </g>\n     </g>\n    </g>\n    <g id=\"xtick_2\">\n     <g id=\"line2d_3\">\n      <path clip-path=\"url(#p7194f50029)\" d=\"M 115.684024 143.1 \nL 115.684024 7.2 \n\" style=\"fill:none;stroke:#b0b0b0;stroke-linecap:square;stroke-width:0.8;\"/>\n     </g>\n     <g id=\"line2d_4\">\n      <g>\n       <use style=\"stroke:#000000;stroke-width:0.8;\" x=\"115.684024\" xlink:href=\"#m7e3a4de662\" y=\"143.1\"/>\n      </g>\n     </g>\n     <g id=\"text_2\">\n      <!-- 40 -->\n      <defs>\n       <path d=\"M 37.796875 64.3125 \nL 12.890625 25.390625 \nL 37.796875 25.390625 \nz\nM 35.203125 72.90625 \nL 47.609375 72.90625 \nL 47.609375 25.390625 \nL 58.015625 25.390625 \nL 58.015625 17.1875 \nL 47.609375 17.1875 \nL 47.609375 0 \nL 37.796875 0 \nL 37.796875 17.1875 \nL 4.890625 17.1875 \nL 4.890625 26.703125 \nz\n\" id=\"DejaVuSans-52\"/>\n      </defs>\n      <g transform=\"translate(109.321524 157.698438)scale(0.1 -0.1)\">\n       <use xlink:href=\"#DejaVuSans-52\"/>\n       <use x=\"63.623047\" xlink:href=\"#DejaVuSans-48\"/>\n      </g>\n     </g>\n    </g>\n    <g id=\"xtick_3\">\n     <g id=\"line2d_5\">\n      <path clip-path=\"url(#p7194f50029)\" d=\"M 159.571664 143.1 \nL 159.571664 7.2 \n\" style=\"fill:none;stroke:#b0b0b0;stroke-linecap:square;stroke-width:0.8;\"/>\n     </g>\n     <g id=\"line2d_6\">\n      <g>\n       <use style=\"stroke:#000000;stroke-width:0.8;\" x=\"159.571664\" xlink:href=\"#m7e3a4de662\" y=\"143.1\"/>\n      </g>\n     </g>\n     <g id=\"text_3\">\n      <!-- 60 -->\n      <defs>\n       <path d=\"M 33.015625 40.375 \nQ 26.375 40.375 22.484375 35.828125 \nQ 18.609375 31.296875 18.609375 23.390625 \nQ 18.609375 15.53125 22.484375 10.953125 \nQ 26.375 6.390625 33.015625 6.390625 \nQ 39.65625 6.390625 43.53125 10.953125 \nQ 47.40625 15.53125 47.40625 23.390625 \nQ 47.40625 31.296875 43.53125 35.828125 \nQ 39.65625 40.375 33.015625 40.375 \nz\nM 52.59375 71.296875 \nL 52.59375 62.3125 \nQ 48.875 64.0625 45.09375 64.984375 \nQ 41.3125 65.921875 37.59375 65.921875 \nQ 27.828125 65.921875 22.671875 59.328125 \nQ 17.53125 52.734375 16.796875 39.40625 \nQ 19.671875 43.65625 24.015625 45.921875 \nQ 28.375 48.1875 33.59375 48.1875 \nQ 44.578125 48.1875 50.953125 41.515625 \nQ 57.328125 34.859375 57.328125 23.390625 \nQ 57.328125 12.15625 50.6875 5.359375 \nQ 44.046875 -1.421875 33.015625 -1.421875 \nQ 20.359375 -1.421875 13.671875 8.265625 \nQ 6.984375 17.96875 6.984375 36.375 \nQ 6.984375 53.65625 15.1875 63.9375 \nQ 23.390625 74.21875 37.203125 74.21875 \nQ 40.921875 74.21875 44.703125 73.484375 \nQ 48.484375 72.75 52.59375 71.296875 \nz\n\" id=\"DejaVuSans-54\"/>\n      </defs>\n      <g transform=\"translate(153.209164 157.698438)scale(0.1 -0.1)\">\n       <use xlink:href=\"#DejaVuSans-54\"/>\n       <use x=\"63.623047\" xlink:href=\"#DejaVuSans-48\"/>\n      </g>\n     </g>\n    </g>\n    <g id=\"xtick_4\">\n     <g id=\"line2d_7\">\n      <path clip-path=\"url(#p7194f50029)\" d=\"M 203.459305 143.1 \nL 203.459305 7.2 \n\" style=\"fill:none;stroke:#b0b0b0;stroke-linecap:square;stroke-width:0.8;\"/>\n     </g>\n     <g id=\"line2d_8\">\n      <g>\n       <use style=\"stroke:#000000;stroke-width:0.8;\" x=\"203.459305\" xlink:href=\"#m7e3a4de662\" y=\"143.1\"/>\n      </g>\n     </g>\n     <g id=\"text_4\">\n      <!-- 80 -->\n      <defs>\n       <path d=\"M 31.78125 34.625 \nQ 24.75 34.625 20.71875 30.859375 \nQ 16.703125 27.09375 16.703125 20.515625 \nQ 16.703125 13.921875 20.71875 10.15625 \nQ 24.75 6.390625 31.78125 6.390625 \nQ 38.8125 6.390625 42.859375 10.171875 \nQ 46.921875 13.96875 46.921875 20.515625 \nQ 46.921875 27.09375 42.890625 30.859375 \nQ 38.875 34.625 31.78125 34.625 \nz\nM 21.921875 38.8125 \nQ 15.578125 40.375 12.03125 44.71875 \nQ 8.5 49.078125 8.5 55.328125 \nQ 8.5 64.0625 14.71875 69.140625 \nQ 20.953125 74.21875 31.78125 74.21875 \nQ 42.671875 74.21875 48.875 69.140625 \nQ 55.078125 64.0625 55.078125 55.328125 \nQ 55.078125 49.078125 51.53125 44.71875 \nQ 48 40.375 41.703125 38.8125 \nQ 48.828125 37.15625 52.796875 32.3125 \nQ 56.78125 27.484375 56.78125 20.515625 \nQ 56.78125 9.90625 50.3125 4.234375 \nQ 43.84375 -1.421875 31.78125 -1.421875 \nQ 19.734375 -1.421875 13.25 4.234375 \nQ 6.78125 9.90625 6.78125 20.515625 \nQ 6.78125 27.484375 10.78125 32.3125 \nQ 14.796875 37.15625 21.921875 38.8125 \nz\nM 18.3125 54.390625 \nQ 18.3125 48.734375 21.84375 45.5625 \nQ 25.390625 42.390625 31.78125 42.390625 \nQ 38.140625 42.390625 41.71875 45.5625 \nQ 45.3125 48.734375 45.3125 54.390625 \nQ 45.3125 60.0625 41.71875 63.234375 \nQ 38.140625 66.40625 31.78125 66.40625 \nQ 25.390625 66.40625 21.84375 63.234375 \nQ 18.3125 60.0625 18.3125 54.390625 \nz\n\" id=\"DejaVuSans-56\"/>\n      </defs>\n      <g transform=\"translate(197.096805 157.698438)scale(0.1 -0.1)\">\n       <use xlink:href=\"#DejaVuSans-56\"/>\n       <use x=\"63.623047\" xlink:href=\"#DejaVuSans-48\"/>\n      </g>\n     </g>\n    </g>\n    <g id=\"text_5\">\n     <!-- epoch -->\n     <defs>\n      <path d=\"M 56.203125 29.59375 \nL 56.203125 25.203125 \nL 14.890625 25.203125 \nQ 15.484375 15.921875 20.484375 11.0625 \nQ 25.484375 6.203125 34.421875 6.203125 \nQ 39.59375 6.203125 44.453125 7.46875 \nQ 49.3125 8.734375 54.109375 11.28125 \nL 54.109375 2.78125 \nQ 49.265625 0.734375 44.1875 -0.34375 \nQ 39.109375 -1.421875 33.890625 -1.421875 \nQ 20.796875 -1.421875 13.15625 6.1875 \nQ 5.515625 13.8125 5.515625 26.8125 \nQ 5.515625 40.234375 12.765625 48.109375 \nQ 20.015625 56 32.328125 56 \nQ 43.359375 56 49.78125 48.890625 \nQ 56.203125 41.796875 56.203125 29.59375 \nz\nM 47.21875 32.234375 \nQ 47.125 39.59375 43.09375 43.984375 \nQ 39.0625 48.390625 32.421875 48.390625 \nQ 24.90625 48.390625 20.390625 44.140625 \nQ 15.875 39.890625 15.1875 32.171875 \nz\n\" id=\"DejaVuSans-101\"/>\n      <path d=\"M 18.109375 8.203125 \nL 18.109375 -20.796875 \nL 9.078125 -20.796875 \nL 9.078125 54.6875 \nL 18.109375 54.6875 \nL 18.109375 46.390625 \nQ 20.953125 51.265625 25.265625 53.625 \nQ 29.59375 56 35.59375 56 \nQ 45.5625 56 51.78125 48.09375 \nQ 58.015625 40.1875 58.015625 27.296875 \nQ 58.015625 14.40625 51.78125 6.484375 \nQ 45.5625 -1.421875 35.59375 -1.421875 \nQ 29.59375 -1.421875 25.265625 0.953125 \nQ 20.953125 3.328125 18.109375 8.203125 \nz\nM 48.6875 27.296875 \nQ 48.6875 37.203125 44.609375 42.84375 \nQ 40.53125 48.484375 33.40625 48.484375 \nQ 26.265625 48.484375 22.1875 42.84375 \nQ 18.109375 37.203125 18.109375 27.296875 \nQ 18.109375 17.390625 22.1875 11.75 \nQ 26.265625 6.109375 33.40625 6.109375 \nQ 40.53125 6.109375 44.609375 11.75 \nQ 48.6875 17.390625 48.6875 27.296875 \nz\n\" id=\"DejaVuSans-112\"/>\n      <path d=\"M 30.609375 48.390625 \nQ 23.390625 48.390625 19.1875 42.75 \nQ 14.984375 37.109375 14.984375 27.296875 \nQ 14.984375 17.484375 19.15625 11.84375 \nQ 23.34375 6.203125 30.609375 6.203125 \nQ 37.796875 6.203125 41.984375 11.859375 \nQ 46.1875 17.53125 46.1875 27.296875 \nQ 46.1875 37.015625 41.984375 42.703125 \nQ 37.796875 48.390625 30.609375 48.390625 \nz\nM 30.609375 56 \nQ 42.328125 56 49.015625 48.375 \nQ 55.71875 40.765625 55.71875 27.296875 \nQ 55.71875 13.875 49.015625 6.21875 \nQ 42.328125 -1.421875 30.609375 -1.421875 \nQ 18.84375 -1.421875 12.171875 6.21875 \nQ 5.515625 13.875 5.515625 27.296875 \nQ 5.515625 40.765625 12.171875 48.375 \nQ 18.84375 56 30.609375 56 \nz\n\" id=\"DejaVuSans-111\"/>\n      <path d=\"M 48.78125 52.59375 \nL 48.78125 44.1875 \nQ 44.96875 46.296875 41.140625 47.34375 \nQ 37.3125 48.390625 33.40625 48.390625 \nQ 24.65625 48.390625 19.8125 42.84375 \nQ 14.984375 37.3125 14.984375 27.296875 \nQ 14.984375 17.28125 19.8125 11.734375 \nQ 24.65625 6.203125 33.40625 6.203125 \nQ 37.3125 6.203125 41.140625 7.25 \nQ 44.96875 8.296875 48.78125 10.40625 \nL 48.78125 2.09375 \nQ 45.015625 0.34375 40.984375 -0.53125 \nQ 36.96875 -1.421875 32.421875 -1.421875 \nQ 20.0625 -1.421875 12.78125 6.34375 \nQ 5.515625 14.109375 5.515625 27.296875 \nQ 5.515625 40.671875 12.859375 48.328125 \nQ 20.21875 56 33.015625 56 \nQ 37.15625 56 41.109375 55.140625 \nQ 45.0625 54.296875 48.78125 52.59375 \nz\n\" id=\"DejaVuSans-99\"/>\n      <path d=\"M 54.890625 33.015625 \nL 54.890625 0 \nL 45.90625 0 \nL 45.90625 32.71875 \nQ 45.90625 40.484375 42.875 44.328125 \nQ 39.84375 48.1875 33.796875 48.1875 \nQ 26.515625 48.1875 22.3125 43.546875 \nQ 18.109375 38.921875 18.109375 30.90625 \nL 18.109375 0 \nL 9.078125 0 \nL 9.078125 75.984375 \nL 18.109375 75.984375 \nL 18.109375 46.1875 \nQ 21.34375 51.125 25.703125 53.5625 \nQ 30.078125 56 35.796875 56 \nQ 45.21875 56 50.046875 50.171875 \nQ 54.890625 44.34375 54.890625 33.015625 \nz\n\" id=\"DejaVuSans-104\"/>\n     </defs>\n     <g transform=\"translate(112.525 171.376563)scale(0.1 -0.1)\">\n      <use xlink:href=\"#DejaVuSans-101\"/>\n      <use x=\"61.523438\" xlink:href=\"#DejaVuSans-112\"/>\n      <use x=\"125\" xlink:href=\"#DejaVuSans-111\"/>\n      <use x=\"186.181641\" xlink:href=\"#DejaVuSans-99\"/>\n      <use x=\"241.162109\" xlink:href=\"#DejaVuSans-104\"/>\n     </g>\n    </g>\n   </g>\n   <g id=\"matplotlib.axis_2\">\n    <g id=\"ytick_1\">\n     <g id=\"line2d_9\">\n      <path clip-path=\"url(#p7194f50029)\" d=\"M 30.103125 120.45 \nL 225.403125 120.45 \n\" style=\"fill:none;stroke:#b0b0b0;stroke-linecap:square;stroke-width:0.8;\"/>\n     </g>\n     <g id=\"line2d_10\">\n      <defs>\n       <path d=\"M 0 0 \nL -3.5 0 \n\" id=\"mdf0b44de98\" style=\"stroke:#000000;stroke-width:0.8;\"/>\n      </defs>\n      <g>\n       <use style=\"stroke:#000000;stroke-width:0.8;\" x=\"30.103125\" xlink:href=\"#mdf0b44de98\" y=\"120.45\"/>\n      </g>\n     </g>\n     <g id=\"text_6\">\n      <!-- 0.4 -->\n      <defs>\n       <path d=\"M 10.6875 12.40625 \nL 21 12.40625 \nL 21 0 \nL 10.6875 0 \nz\n\" id=\"DejaVuSans-46\"/>\n      </defs>\n      <g transform=\"translate(7.2 124.249219)scale(0.1 -0.1)\">\n       <use xlink:href=\"#DejaVuSans-48\"/>\n       <use x=\"63.623047\" xlink:href=\"#DejaVuSans-46\"/>\n       <use x=\"95.410156\" xlink:href=\"#DejaVuSans-52\"/>\n      </g>\n     </g>\n    </g>\n    <g id=\"ytick_2\">\n     <g id=\"line2d_11\">\n      <path clip-path=\"url(#p7194f50029)\" d=\"M 30.103125 75.15 \nL 225.403125 75.15 \n\" style=\"fill:none;stroke:#b0b0b0;stroke-linecap:square;stroke-width:0.8;\"/>\n     </g>\n     <g id=\"line2d_12\">\n      <g>\n       <use style=\"stroke:#000000;stroke-width:0.8;\" x=\"30.103125\" xlink:href=\"#mdf0b44de98\" y=\"75.15\"/>\n      </g>\n     </g>\n     <g id=\"text_7\">\n      <!-- 0.6 -->\n      <g transform=\"translate(7.2 78.949219)scale(0.1 -0.1)\">\n       <use xlink:href=\"#DejaVuSans-48\"/>\n       <use x=\"63.623047\" xlink:href=\"#DejaVuSans-46\"/>\n       <use x=\"95.410156\" xlink:href=\"#DejaVuSans-54\"/>\n      </g>\n     </g>\n    </g>\n    <g id=\"ytick_3\">\n     <g id=\"line2d_13\">\n      <path clip-path=\"url(#p7194f50029)\" d=\"M 30.103125 29.85 \nL 225.403125 29.85 \n\" style=\"fill:none;stroke:#b0b0b0;stroke-linecap:square;stroke-width:0.8;\"/>\n     </g>\n     <g id=\"line2d_14\">\n      <g>\n       <use style=\"stroke:#000000;stroke-width:0.8;\" x=\"30.103125\" xlink:href=\"#mdf0b44de98\" y=\"29.85\"/>\n      </g>\n     </g>\n     <g id=\"text_8\">\n      <!-- 0.8 -->\n      <g transform=\"translate(7.2 33.649219)scale(0.1 -0.1)\">\n       <use xlink:href=\"#DejaVuSans-48\"/>\n       <use x=\"63.623047\" xlink:href=\"#DejaVuSans-46\"/>\n       <use x=\"95.410156\" xlink:href=\"#DejaVuSans-56\"/>\n      </g>\n     </g>\n    </g>\n   </g>\n   <g id=\"line2d_15\">\n    <path clip-path=\"url(#p7194f50029)\" d=\"M 30.808277 -1 \nL 32.297507 97.376396 \nL 34.491889 117.502281 \nL 36.686271 126.261579 \nL 38.880653 131.639771 \nL 41.075035 135.920602 \nL 43.269417 139.337603 \nL 45.463799 142.234741 \nL 47.658181 144.801204 \nL 49.852563 146.850563 \nL 52.046945 148.453915 \nL 54.241327 150.797699 \nL 56.435709 151.857886 \nL 58.630091 153.55072 \nL 60.824473 154.706293 \nL 63.018855 156.591006 \nL 65.213237 157.080897 \nL 67.407619 158.300262 \nL 69.602001 160.214027 \nL 71.796383 160.637593 \nL 73.990765 161.744803 \nL 76.185147 162.903865 \nL 78.379529 163.641468 \nL 80.573912 164.395133 \nL 82.768294 164.366264 \nL 84.962676 166.099933 \nL 87.157058 167.09912 \nL 89.35144 167.900689 \nL 91.545822 167.140629 \nL 93.740204 167.46602 \nL 95.934586 168.518029 \nL 98.128968 169.89501 \nL 100.32335 170.900382 \nL 102.517732 171.44674 \nL 104.712114 171.285882 \nL 106.906496 173.101224 \nL 109.100878 172.934907 \nL 111.29526 173.911501 \nL 113.489642 173.739152 \nL 115.684024 174.575716 \nL 117.878406 174.644936 \nL 120.072788 175.366861 \nL 122.26717 176.572608 \nL 124.461552 176.511869 \nL 126.655934 176.442513 \nL 128.850316 176.555577 \nL 131.044698 177.654879 \nL 133.23908 177.629968 \nL 135.433462 176.693831 \nL 137.627844 179.075544 \nL 139.822226 178.166135 \nL 142.016608 179.95791 \nL 144.21099 179.358165 \nL 146.405372 180.561124 \nL 148.599754 181.179787 \nL 150.794136 181.415755 \nL 152.988518 181.287188 \nL 153.847739 181.65625 \nM 156.46103 181.65625 \nL 157.377282 181.24513 \nL 158.436148 181.65625 \nM 160.282026 181.65625 \nL 161.766046 180.735204 \nL 163.960428 181.579328 \nL 164.087167 181.65625 \n\" style=\"fill:none;stroke:#1f77b4;stroke-linecap:square;stroke-width:1.5;\"/>\n   </g>\n   <g id=\"line2d_16\">\n    <path clip-path=\"url(#p7194f50029)\" d=\"M 30.103125 85.852125 \nL 32.297507 26.229775 \nL 34.491889 18.6005 \nL 36.686271 15.637125 \nL 38.880653 13.5722 \nL 41.075035 12.405725 \nL 43.269417 11.454425 \nL 45.463799 9.944425 \nL 47.658181 9.393275 \nL 49.852563 8.570325 \nL 52.046945 7.830425 \nL 54.241327 7.11695 \nL 56.435709 6.667725 \nL 58.630091 6.24115 \nL 60.824473 5.9618 \nL 63.018855 5.195475 \nL 65.213237 4.953875 \nL 67.407619 4.485775 \nL 69.602001 3.934625 \nL 71.796383 3.55335 \nL 73.990765 3.247575 \nL 76.185147 2.824775 \nL 78.379529 2.5492 \nL 80.573912 2.273625 \nL 82.768294 2.281175 \nL 84.962676 1.84705 \nL 87.157058 1.1902 \nL 89.35144 0.9939 \nL 91.545822 1.329875 \nL 93.740204 1.28835 \nL 95.934586 0.7976 \nL 98.128968 0.103 \nL 100.32335 0.152075 \nL 102.517732 -0.240525 \nL 104.712114 -0.701075 \nL 106.756385 -1 \nM 107.083709 -1 \nL 109.100878 -0.75015 \nL 110.153313 -1 \n\" style=\"fill:none;stroke:#bf00bf;stroke-dasharray:5.55,2.4;stroke-dashoffset:0;stroke-width:1.5;\"/>\n   </g>\n   <g id=\"line2d_17\">\n    <path clip-path=\"url(#p7194f50029)\" d=\"M 30.103125 33.7458 \nL 32.297507 20.8806 \nL 34.491889 19.04595 \nL 36.686271 16.64505 \nL 38.880653 16.55445 \nL 41.075035 13.79115 \nL 43.269417 16.0335 \nL 45.463799 15.55785 \nL 47.658181 18.77415 \nL 49.852563 11.7753 \nL 52.046945 11.6394 \nL 54.241327 15.9882 \nL 56.435709 11.39025 \nL 58.630091 13.60995 \nL 60.824473 11.57145 \nL 63.018855 11.3676 \nL 65.213237 11.8206 \nL 67.407619 11.5941 \nL 69.602001 11.277 \nL 71.796383 13.1343 \nL 73.990765 11.1411 \nL 76.185147 10.93725 \nL 78.379529 11.6394 \nL 80.573912 11.29965 \nL 82.768294 10.84665 \nL 84.962676 10.71075 \nL 87.157058 10.2804 \nL 89.35144 10.7787 \nL 91.545822 10.6881 \nL 93.740204 10.84665 \nL 95.934586 9.6462 \nL 98.128968 12.16035 \nL 100.32335 9.6009 \nL 102.517732 10.43895 \nL 104.712114 10.6428 \nL 106.906496 9.94065 \nL 109.100878 9.80475 \nL 111.29526 12.25095 \nL 113.489642 9.9633 \nL 115.684024 10.89195 \nL 117.878406 10.16715 \nL 120.072788 9.3291 \nL 122.26717 9.44235 \nL 124.461552 10.6881 \nL 126.655934 10.7334 \nL 128.850316 10.5069 \nL 131.044698 10.1898 \nL 133.23908 10.57485 \nL 135.433462 8.559 \nL 137.627844 10.5069 \nL 139.822226 8.9667 \nL 142.016608 8.0607 \nL 144.21099 11.29965 \nL 146.405372 9.918 \nL 148.599754 9.62355 \nL 150.794136 9.4197 \nL 152.988518 10.12185 \nL 155.1829 10.34835 \nL 157.377282 10.16715 \nL 159.571664 10.1898 \nL 161.766046 11.20905 \nL 163.960428 10.89195 \nL 166.15481 9.44235 \nL 168.349192 13.02105 \nL 170.543574 10.80135 \nL 172.737956 9.465 \nL 174.932338 9.4197 \nL 177.126721 9.7821 \nL 179.321103 9.2838 \nL 181.515485 9.98595 \nL 183.709867 8.4684 \nL 185.904249 10.1445 \nL 188.098631 9.26115 \nL 190.293013 10.80135 \nL 192.487395 9.35175 \nL 194.681777 11.52615 \nL 196.876159 12.1377 \nL 199.070541 8.9667 \nL 201.264923 10.371 \nL 203.459305 9.6462 \nL 205.653687 10.62015 \nL 207.848069 9.5103 \nL 210.042451 11.8206 \nL 212.236833 8.9214 \nL 214.431215 9.17055 \nL 216.625597 9.30645 \nL 218.819979 8.6949 \nL 221.014361 8.9214 \nL 223.208743 12.0018 \nL 225.403125 9.17055 \n\" style=\"fill:none;stroke:#008000;stroke-dasharray:9.6,2.4,1.5,2.4;stroke-dashoffset:0;stroke-width:1.5;\"/>\n   </g>\n   <g id=\"patch_3\">\n    <path d=\"M 30.103125 143.1 \nL 30.103125 7.2 \n\" style=\"fill:none;stroke:#000000;stroke-linecap:square;stroke-linejoin:miter;stroke-width:0.8;\"/>\n   </g>\n   <g id=\"patch_4\">\n    <path d=\"M 225.403125 143.1 \nL 225.403125 7.2 \n\" style=\"fill:none;stroke:#000000;stroke-linecap:square;stroke-linejoin:miter;stroke-width:0.8;\"/>\n   </g>\n   <g id=\"patch_5\">\n    <path d=\"M 30.103125 143.1 \nL 225.403125 143.1 \n\" style=\"fill:none;stroke:#000000;stroke-linecap:square;stroke-linejoin:miter;stroke-width:0.8;\"/>\n   </g>\n   <g id=\"patch_6\">\n    <path d=\"M 30.103125 7.2 \nL 225.403125 7.2 \n\" style=\"fill:none;stroke:#000000;stroke-linecap:square;stroke-linejoin:miter;stroke-width:0.8;\"/>\n   </g>\n   <g id=\"legend_1\">\n    <g id=\"patch_7\">\n     <path d=\"M 140.634375 138.1 \nL 218.403125 138.1 \nQ 220.403125 138.1 220.403125 136.1 \nL 220.403125 93.065625 \nQ 220.403125 91.065625 218.403125 91.065625 \nL 140.634375 91.065625 \nQ 138.634375 91.065625 138.634375 93.065625 \nL 138.634375 136.1 \nQ 138.634375 138.1 140.634375 138.1 \nz\n\" style=\"fill:#ffffff;opacity:0.8;stroke:#cccccc;stroke-linejoin:miter;\"/>\n    </g>\n    <g id=\"line2d_18\">\n     <path d=\"M 142.634375 99.164062 \nL 162.634375 99.164062 \n\" style=\"fill:none;stroke:#1f77b4;stroke-linecap:square;stroke-width:1.5;\"/>\n    </g>\n    <g id=\"line2d_19\"/>\n    <g id=\"text_9\">\n     <!-- train loss -->\n     <defs>\n      <path d=\"M 18.3125 70.21875 \nL 18.3125 54.6875 \nL 36.8125 54.6875 \nL 36.8125 47.703125 \nL 18.3125 47.703125 \nL 18.3125 18.015625 \nQ 18.3125 11.328125 20.140625 9.421875 \nQ 21.96875 7.515625 27.59375 7.515625 \nL 36.8125 7.515625 \nL 36.8125 0 \nL 27.59375 0 \nQ 17.1875 0 13.234375 3.875 \nQ 9.28125 7.765625 9.28125 18.015625 \nL 9.28125 47.703125 \nL 2.6875 47.703125 \nL 2.6875 54.6875 \nL 9.28125 54.6875 \nL 9.28125 70.21875 \nz\n\" id=\"DejaVuSans-116\"/>\n      <path d=\"M 41.109375 46.296875 \nQ 39.59375 47.171875 37.8125 47.578125 \nQ 36.03125 48 33.890625 48 \nQ 26.265625 48 22.1875 43.046875 \nQ 18.109375 38.09375 18.109375 28.8125 \nL 18.109375 0 \nL 9.078125 0 \nL 9.078125 54.6875 \nL 18.109375 54.6875 \nL 18.109375 46.1875 \nQ 20.953125 51.171875 25.484375 53.578125 \nQ 30.03125 56 36.53125 56 \nQ 37.453125 56 38.578125 55.875 \nQ 39.703125 55.765625 41.0625 55.515625 \nz\n\" id=\"DejaVuSans-114\"/>\n      <path d=\"M 34.28125 27.484375 \nQ 23.390625 27.484375 19.1875 25 \nQ 14.984375 22.515625 14.984375 16.5 \nQ 14.984375 11.71875 18.140625 8.90625 \nQ 21.296875 6.109375 26.703125 6.109375 \nQ 34.1875 6.109375 38.703125 11.40625 \nQ 43.21875 16.703125 43.21875 25.484375 \nL 43.21875 27.484375 \nz\nM 52.203125 31.203125 \nL 52.203125 0 \nL 43.21875 0 \nL 43.21875 8.296875 \nQ 40.140625 3.328125 35.546875 0.953125 \nQ 30.953125 -1.421875 24.3125 -1.421875 \nQ 15.921875 -1.421875 10.953125 3.296875 \nQ 6 8.015625 6 15.921875 \nQ 6 25.140625 12.171875 29.828125 \nQ 18.359375 34.515625 30.609375 34.515625 \nL 43.21875 34.515625 \nL 43.21875 35.40625 \nQ 43.21875 41.609375 39.140625 45 \nQ 35.0625 48.390625 27.6875 48.390625 \nQ 23 48.390625 18.546875 47.265625 \nQ 14.109375 46.140625 10.015625 43.890625 \nL 10.015625 52.203125 \nQ 14.9375 54.109375 19.578125 55.046875 \nQ 24.21875 56 28.609375 56 \nQ 40.484375 56 46.34375 49.84375 \nQ 52.203125 43.703125 52.203125 31.203125 \nz\n\" id=\"DejaVuSans-97\"/>\n      <path d=\"M 9.421875 54.6875 \nL 18.40625 54.6875 \nL 18.40625 0 \nL 9.421875 0 \nz\nM 9.421875 75.984375 \nL 18.40625 75.984375 \nL 18.40625 64.59375 \nL 9.421875 64.59375 \nz\n\" id=\"DejaVuSans-105\"/>\n      <path d=\"M 54.890625 33.015625 \nL 54.890625 0 \nL 45.90625 0 \nL 45.90625 32.71875 \nQ 45.90625 40.484375 42.875 44.328125 \nQ 39.84375 48.1875 33.796875 48.1875 \nQ 26.515625 48.1875 22.3125 43.546875 \nQ 18.109375 38.921875 18.109375 30.90625 \nL 18.109375 0 \nL 9.078125 0 \nL 9.078125 54.6875 \nL 18.109375 54.6875 \nL 18.109375 46.1875 \nQ 21.34375 51.125 25.703125 53.5625 \nQ 30.078125 56 35.796875 56 \nQ 45.21875 56 50.046875 50.171875 \nQ 54.890625 44.34375 54.890625 33.015625 \nz\n\" id=\"DejaVuSans-110\"/>\n      <path id=\"DejaVuSans-32\"/>\n      <path d=\"M 9.421875 75.984375 \nL 18.40625 75.984375 \nL 18.40625 0 \nL 9.421875 0 \nz\n\" id=\"DejaVuSans-108\"/>\n      <path d=\"M 44.28125 53.078125 \nL 44.28125 44.578125 \nQ 40.484375 46.53125 36.375 47.5 \nQ 32.28125 48.484375 27.875 48.484375 \nQ 21.1875 48.484375 17.84375 46.4375 \nQ 14.5 44.390625 14.5 40.28125 \nQ 14.5 37.15625 16.890625 35.375 \nQ 19.28125 33.59375 26.515625 31.984375 \nL 29.59375 31.296875 \nQ 39.15625 29.25 43.1875 25.515625 \nQ 47.21875 21.78125 47.21875 15.09375 \nQ 47.21875 7.46875 41.1875 3.015625 \nQ 35.15625 -1.421875 24.609375 -1.421875 \nQ 20.21875 -1.421875 15.453125 -0.5625 \nQ 10.6875 0.296875 5.421875 2 \nL 5.421875 11.28125 \nQ 10.40625 8.6875 15.234375 7.390625 \nQ 20.0625 6.109375 24.8125 6.109375 \nQ 31.15625 6.109375 34.5625 8.28125 \nQ 37.984375 10.453125 37.984375 14.40625 \nQ 37.984375 18.0625 35.515625 20.015625 \nQ 33.0625 21.96875 24.703125 23.78125 \nL 21.578125 24.515625 \nQ 13.234375 26.265625 9.515625 29.90625 \nQ 5.8125 33.546875 5.8125 39.890625 \nQ 5.8125 47.609375 11.28125 51.796875 \nQ 16.75 56 26.8125 56 \nQ 31.78125 56 36.171875 55.265625 \nQ 40.578125 54.546875 44.28125 53.078125 \nz\n\" id=\"DejaVuSans-115\"/>\n     </defs>\n     <g transform=\"translate(170.634375 102.664062)scale(0.1 -0.1)\">\n      <use xlink:href=\"#DejaVuSans-116\"/>\n      <use x=\"39.208984\" xlink:href=\"#DejaVuSans-114\"/>\n      <use x=\"80.322266\" xlink:href=\"#DejaVuSans-97\"/>\n      <use x=\"141.601562\" xlink:href=\"#DejaVuSans-105\"/>\n      <use x=\"169.384766\" xlink:href=\"#DejaVuSans-110\"/>\n      <use x=\"232.763672\" xlink:href=\"#DejaVuSans-32\"/>\n      <use x=\"264.550781\" xlink:href=\"#DejaVuSans-108\"/>\n      <use x=\"292.333984\" xlink:href=\"#DejaVuSans-111\"/>\n      <use x=\"353.515625\" xlink:href=\"#DejaVuSans-115\"/>\n      <use x=\"405.615234\" xlink:href=\"#DejaVuSans-115\"/>\n     </g>\n    </g>\n    <g id=\"line2d_20\">\n     <path d=\"M 142.634375 113.842187 \nL 162.634375 113.842187 \n\" style=\"fill:none;stroke:#bf00bf;stroke-dasharray:5.55,2.4;stroke-dashoffset:0;stroke-width:1.5;\"/>\n    </g>\n    <g id=\"line2d_21\"/>\n    <g id=\"text_10\">\n     <!-- train acc -->\n     <g transform=\"translate(170.634375 117.342187)scale(0.1 -0.1)\">\n      <use xlink:href=\"#DejaVuSans-116\"/>\n      <use x=\"39.208984\" xlink:href=\"#DejaVuSans-114\"/>\n      <use x=\"80.322266\" xlink:href=\"#DejaVuSans-97\"/>\n      <use x=\"141.601562\" xlink:href=\"#DejaVuSans-105\"/>\n      <use x=\"169.384766\" xlink:href=\"#DejaVuSans-110\"/>\n      <use x=\"232.763672\" xlink:href=\"#DejaVuSans-32\"/>\n      <use x=\"264.550781\" xlink:href=\"#DejaVuSans-97\"/>\n      <use x=\"325.830078\" xlink:href=\"#DejaVuSans-99\"/>\n      <use x=\"380.810547\" xlink:href=\"#DejaVuSans-99\"/>\n     </g>\n    </g>\n    <g id=\"line2d_22\">\n     <path d=\"M 142.634375 128.520312 \nL 162.634375 128.520312 \n\" style=\"fill:none;stroke:#008000;stroke-dasharray:9.6,2.4,1.5,2.4;stroke-dashoffset:0;stroke-width:1.5;\"/>\n    </g>\n    <g id=\"line2d_23\"/>\n    <g id=\"text_11\">\n     <!-- test acc -->\n     <g transform=\"translate(170.634375 132.020312)scale(0.1 -0.1)\">\n      <use xlink:href=\"#DejaVuSans-116\"/>\n      <use x=\"39.208984\" xlink:href=\"#DejaVuSans-101\"/>\n      <use x=\"100.732422\" xlink:href=\"#DejaVuSans-115\"/>\n      <use x=\"152.832031\" xlink:href=\"#DejaVuSans-116\"/>\n      <use x=\"192.041016\" xlink:href=\"#DejaVuSans-32\"/>\n      <use x=\"223.828125\" xlink:href=\"#DejaVuSans-97\"/>\n      <use x=\"285.107422\" xlink:href=\"#DejaVuSans-99\"/>\n      <use x=\"340.087891\" xlink:href=\"#DejaVuSans-99\"/>\n     </g>\n    </g>\n   </g>\n  </g>\n </g>\n <defs>\n  <clipPath id=\"p7194f50029\">\n   <rect height=\"135.9\" width=\"195.3\" x=\"30.103125\" y=\"7.2\"/>\n  </clipPath>\n </defs>\n</svg>\n"
          },
          "metadata": {
            "needs_background": "light"
          }
        }
      ]
    },
    {
      "cell_type": "code",
      "source": [
        "mu.predict_ch3(net, trainDataLoader)\n"
      ],
      "metadata": {
        "colab": {
          "base_uri": "https://localhost:8080/",
          "height": 179
        },
        "id": "xWlvhW2OX8xl",
        "outputId": "45f81dbb-4012-463b-9fff-0e17d7e993bf"
      },
      "execution_count": 21,
      "outputs": [
        {
          "output_type": "display_data",
          "data": {
            "text/plain": [
              "<Figure size 648x108 with 6 Axes>"
            ],
            "image/svg+xml": "<?xml version=\"1.0\" encoding=\"utf-8\" standalone=\"no\"?>\n<!DOCTYPE svg PUBLIC \"-//W3C//DTD SVG 1.1//EN\"\n  \"http://www.w3.org/Graphics/SVG/1.1/DTD/svg11.dtd\">\n<!-- Created with matplotlib (https://matplotlib.org/) -->\n<svg height=\"118.198357pt\" version=\"1.1\" viewBox=\"0 0 520.1 118.198357\" width=\"520.1pt\" xmlns=\"http://www.w3.org/2000/svg\" xmlns:xlink=\"http://www.w3.org/1999/xlink\">\n <defs>\n  <style type=\"text/css\">\n*{stroke-linecap:butt;stroke-linejoin:round;}\n  </style>\n </defs>\n <g id=\"figure_1\">\n  <g id=\"patch_1\">\n   <path d=\"M 0 118.198357 \nL 520.1 118.198357 \nL 520.1 0 \nL 0 0 \nz\n\" style=\"fill:none;\"/>\n  </g>\n  <g id=\"axes_1\">\n   <g id=\"patch_2\">\n    <path d=\"M 10.7 107.498357 \nL 82.442857 107.498357 \nL 82.442857 35.7555 \nL 10.7 35.7555 \nz\n\" style=\"fill:#ffffff;\"/>\n   </g>\n   <g clip-path=\"url(#p92dd0354f6)\">\n    <image height=\"72\" id=\"imagee28959026a\" transform=\"scale(1 -1)translate(0 -72)\" width=\"72\" x=\"10.7\" xlink:href=\"data:image/png;base64,\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\" y=\"-35.498357\"/>\n   </g>\n   <g id=\"patch_3\">\n    <path d=\"M 10.7 107.498357 \nL 10.7 35.7555 \n\" style=\"fill:none;stroke:#000000;stroke-linecap:square;stroke-linejoin:miter;stroke-width:0.8;\"/>\n   </g>\n   <g id=\"patch_4\">\n    <path d=\"M 82.442857 107.498357 \nL 82.442857 35.7555 \n\" style=\"fill:none;stroke:#000000;stroke-linecap:square;stroke-linejoin:miter;stroke-width:0.8;\"/>\n   </g>\n   <g id=\"patch_5\">\n    <path d=\"M 10.7 107.498357 \nL 82.442857 107.498357 \n\" style=\"fill:none;stroke:#000000;stroke-linecap:square;stroke-linejoin:miter;stroke-width:0.8;\"/>\n   </g>\n   <g id=\"patch_6\">\n    <path d=\"M 10.7 35.7555 \nL 82.442857 35.7555 \n\" style=\"fill:none;stroke:#000000;stroke-linecap:square;stroke-linejoin:miter;stroke-width:0.8;\"/>\n   </g>\n   <g id=\"text_1\">\n    <!-- shirt -->\n    <defs>\n     <path d=\"M 44.28125 53.078125 \nL 44.28125 44.578125 \nQ 40.484375 46.53125 36.375 47.5 \nQ 32.28125 48.484375 27.875 48.484375 \nQ 21.1875 48.484375 17.84375 46.4375 \nQ 14.5 44.390625 14.5 40.28125 \nQ 14.5 37.15625 16.890625 35.375 \nQ 19.28125 33.59375 26.515625 31.984375 \nL 29.59375 31.296875 \nQ 39.15625 29.25 43.1875 25.515625 \nQ 47.21875 21.78125 47.21875 15.09375 \nQ 47.21875 7.46875 41.1875 3.015625 \nQ 35.15625 -1.421875 24.609375 -1.421875 \nQ 20.21875 -1.421875 15.453125 -0.5625 \nQ 10.6875 0.296875 5.421875 2 \nL 5.421875 11.28125 \nQ 10.40625 8.6875 15.234375 7.390625 \nQ 20.0625 6.109375 24.8125 6.109375 \nQ 31.15625 6.109375 34.5625 8.28125 \nQ 37.984375 10.453125 37.984375 14.40625 \nQ 37.984375 18.0625 35.515625 20.015625 \nQ 33.0625 21.96875 24.703125 23.78125 \nL 21.578125 24.515625 \nQ 13.234375 26.265625 9.515625 29.90625 \nQ 5.8125 33.546875 5.8125 39.890625 \nQ 5.8125 47.609375 11.28125 51.796875 \nQ 16.75 56 26.8125 56 \nQ 31.78125 56 36.171875 55.265625 \nQ 40.578125 54.546875 44.28125 53.078125 \nz\n\" id=\"DejaVuSans-115\"/>\n     <path d=\"M 54.890625 33.015625 \nL 54.890625 0 \nL 45.90625 0 \nL 45.90625 32.71875 \nQ 45.90625 40.484375 42.875 44.328125 \nQ 39.84375 48.1875 33.796875 48.1875 \nQ 26.515625 48.1875 22.3125 43.546875 \nQ 18.109375 38.921875 18.109375 30.90625 \nL 18.109375 0 \nL 9.078125 0 \nL 9.078125 75.984375 \nL 18.109375 75.984375 \nL 18.109375 46.1875 \nQ 21.34375 51.125 25.703125 53.5625 \nQ 30.078125 56 35.796875 56 \nQ 45.21875 56 50.046875 50.171875 \nQ 54.890625 44.34375 54.890625 33.015625 \nz\n\" id=\"DejaVuSans-104\"/>\n     <path d=\"M 9.421875 54.6875 \nL 18.40625 54.6875 \nL 18.40625 0 \nL 9.421875 0 \nz\nM 9.421875 75.984375 \nL 18.40625 75.984375 \nL 18.40625 64.59375 \nL 9.421875 64.59375 \nz\n\" id=\"DejaVuSans-105\"/>\n     <path d=\"M 41.109375 46.296875 \nQ 39.59375 47.171875 37.8125 47.578125 \nQ 36.03125 48 33.890625 48 \nQ 26.265625 48 22.1875 43.046875 \nQ 18.109375 38.09375 18.109375 28.8125 \nL 18.109375 0 \nL 9.078125 0 \nL 9.078125 54.6875 \nL 18.109375 54.6875 \nL 18.109375 46.1875 \nQ 20.953125 51.171875 25.484375 53.578125 \nQ 30.03125 56 36.53125 56 \nQ 37.453125 56 38.578125 55.875 \nQ 39.703125 55.765625 41.0625 55.515625 \nz\n\" id=\"DejaVuSans-114\"/>\n     <path d=\"M 18.3125 70.21875 \nL 18.3125 54.6875 \nL 36.8125 54.6875 \nL 36.8125 47.703125 \nL 18.3125 47.703125 \nL 18.3125 18.015625 \nQ 18.3125 11.328125 20.140625 9.421875 \nQ 21.96875 7.515625 27.59375 7.515625 \nL 36.8125 7.515625 \nL 36.8125 0 \nL 27.59375 0 \nQ 17.1875 0 13.234375 3.875 \nQ 9.28125 7.765625 9.28125 18.015625 \nL 9.28125 47.703125 \nL 2.6875 47.703125 \nL 2.6875 54.6875 \nL 9.28125 54.6875 \nL 9.28125 70.21875 \nz\n\" id=\"DejaVuSans-116\"/>\n    </defs>\n    <g transform=\"translate(33.157679 16.318125)scale(0.12 -0.12)\">\n     <use xlink:href=\"#DejaVuSans-115\"/>\n     <use x=\"52.099609\" xlink:href=\"#DejaVuSans-104\"/>\n     <use x=\"115.478516\" xlink:href=\"#DejaVuSans-105\"/>\n     <use x=\"143.261719\" xlink:href=\"#DejaVuSans-114\"/>\n     <use x=\"184.375\" xlink:href=\"#DejaVuSans-116\"/>\n    </g>\n    <!-- shirt -->\n    <g transform=\"translate(33.157679 29.7555)scale(0.12 -0.12)\">\n     <use xlink:href=\"#DejaVuSans-115\"/>\n     <use x=\"52.099609\" xlink:href=\"#DejaVuSans-104\"/>\n     <use x=\"115.478516\" xlink:href=\"#DejaVuSans-105\"/>\n     <use x=\"143.261719\" xlink:href=\"#DejaVuSans-114\"/>\n     <use x=\"184.375\" xlink:href=\"#DejaVuSans-116\"/>\n    </g>\n   </g>\n  </g>\n  <g id=\"axes_2\">\n   <g id=\"patch_7\">\n    <path d=\"M 96.791429 107.498357 \nL 168.534286 107.498357 \nL 168.534286 35.7555 \nL 96.791429 35.7555 \nz\n\" style=\"fill:#ffffff;\"/>\n   </g>\n   <g clip-path=\"url(#paa0c1d89f0)\">\n    <image height=\"72\" id=\"imagea2bbfee43c\" transform=\"scale(1 -1)translate(0 -72)\" width=\"72\" x=\"96.791429\" xlink:href=\"data:image/png;base64,\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\" y=\"-35.498357\"/>\n   </g>\n   <g id=\"patch_8\">\n    <path d=\"M 96.791429 107.498357 \nL 96.791429 35.7555 \n\" style=\"fill:none;stroke:#000000;stroke-linecap:square;stroke-linejoin:miter;stroke-width:0.8;\"/>\n   </g>\n   <g id=\"patch_9\">\n    <path d=\"M 168.534286 107.498357 \nL 168.534286 35.7555 \n\" style=\"fill:none;stroke:#000000;stroke-linecap:square;stroke-linejoin:miter;stroke-width:0.8;\"/>\n   </g>\n   <g id=\"patch_10\">\n    <path d=\"M 96.791429 107.498357 \nL 168.534286 107.498357 \n\" style=\"fill:none;stroke:#000000;stroke-linecap:square;stroke-linejoin:miter;stroke-width:0.8;\"/>\n   </g>\n   <g id=\"patch_11\">\n    <path d=\"M 96.791429 35.7555 \nL 168.534286 35.7555 \n\" style=\"fill:none;stroke:#000000;stroke-linecap:square;stroke-linejoin:miter;stroke-width:0.8;\"/>\n   </g>\n   <g id=\"text_2\">\n    <!-- sandal -->\n    <defs>\n     <path d=\"M 34.28125 27.484375 \nQ 23.390625 27.484375 19.1875 25 \nQ 14.984375 22.515625 14.984375 16.5 \nQ 14.984375 11.71875 18.140625 8.90625 \nQ 21.296875 6.109375 26.703125 6.109375 \nQ 34.1875 6.109375 38.703125 11.40625 \nQ 43.21875 16.703125 43.21875 25.484375 \nL 43.21875 27.484375 \nz\nM 52.203125 31.203125 \nL 52.203125 0 \nL 43.21875 0 \nL 43.21875 8.296875 \nQ 40.140625 3.328125 35.546875 0.953125 \nQ 30.953125 -1.421875 24.3125 -1.421875 \nQ 15.921875 -1.421875 10.953125 3.296875 \nQ 6 8.015625 6 15.921875 \nQ 6 25.140625 12.171875 29.828125 \nQ 18.359375 34.515625 30.609375 34.515625 \nL 43.21875 34.515625 \nL 43.21875 35.40625 \nQ 43.21875 41.609375 39.140625 45 \nQ 35.0625 48.390625 27.6875 48.390625 \nQ 23 48.390625 18.546875 47.265625 \nQ 14.109375 46.140625 10.015625 43.890625 \nL 10.015625 52.203125 \nQ 14.9375 54.109375 19.578125 55.046875 \nQ 24.21875 56 28.609375 56 \nQ 40.484375 56 46.34375 49.84375 \nQ 52.203125 43.703125 52.203125 31.203125 \nz\n\" id=\"DejaVuSans-97\"/>\n     <path d=\"M 54.890625 33.015625 \nL 54.890625 0 \nL 45.90625 0 \nL 45.90625 32.71875 \nQ 45.90625 40.484375 42.875 44.328125 \nQ 39.84375 48.1875 33.796875 48.1875 \nQ 26.515625 48.1875 22.3125 43.546875 \nQ 18.109375 38.921875 18.109375 30.90625 \nL 18.109375 0 \nL 9.078125 0 \nL 9.078125 54.6875 \nL 18.109375 54.6875 \nL 18.109375 46.1875 \nQ 21.34375 51.125 25.703125 53.5625 \nQ 30.078125 56 35.796875 56 \nQ 45.21875 56 50.046875 50.171875 \nQ 54.890625 44.34375 54.890625 33.015625 \nz\n\" id=\"DejaVuSans-110\"/>\n     <path d=\"M 45.40625 46.390625 \nL 45.40625 75.984375 \nL 54.390625 75.984375 \nL 54.390625 0 \nL 45.40625 0 \nL 45.40625 8.203125 \nQ 42.578125 3.328125 38.25 0.953125 \nQ 33.9375 -1.421875 27.875 -1.421875 \nQ 17.96875 -1.421875 11.734375 6.484375 \nQ 5.515625 14.40625 5.515625 27.296875 \nQ 5.515625 40.1875 11.734375 48.09375 \nQ 17.96875 56 27.875 56 \nQ 33.9375 56 38.25 53.625 \nQ 42.578125 51.265625 45.40625 46.390625 \nz\nM 14.796875 27.296875 \nQ 14.796875 17.390625 18.875 11.75 \nQ 22.953125 6.109375 30.078125 6.109375 \nQ 37.203125 6.109375 41.296875 11.75 \nQ 45.40625 17.390625 45.40625 27.296875 \nQ 45.40625 37.203125 41.296875 42.84375 \nQ 37.203125 48.484375 30.078125 48.484375 \nQ 22.953125 48.484375 18.875 42.84375 \nQ 14.796875 37.203125 14.796875 27.296875 \nz\n\" id=\"DejaVuSans-100\"/>\n     <path d=\"M 9.421875 75.984375 \nL 18.40625 75.984375 \nL 18.40625 0 \nL 9.421875 0 \nz\n\" id=\"DejaVuSans-108\"/>\n    </defs>\n    <g transform=\"translate(112.905045 16.318125)scale(0.12 -0.12)\">\n     <use xlink:href=\"#DejaVuSans-115\"/>\n     <use x=\"52.099609\" xlink:href=\"#DejaVuSans-97\"/>\n     <use x=\"113.378906\" xlink:href=\"#DejaVuSans-110\"/>\n     <use x=\"176.757812\" xlink:href=\"#DejaVuSans-100\"/>\n     <use x=\"240.234375\" xlink:href=\"#DejaVuSans-97\"/>\n     <use x=\"301.513672\" xlink:href=\"#DejaVuSans-108\"/>\n    </g>\n    <!-- sandal -->\n    <g transform=\"translate(112.905045 29.7555)scale(0.12 -0.12)\">\n     <use xlink:href=\"#DejaVuSans-115\"/>\n     <use x=\"52.099609\" xlink:href=\"#DejaVuSans-97\"/>\n     <use x=\"113.378906\" xlink:href=\"#DejaVuSans-110\"/>\n     <use x=\"176.757812\" xlink:href=\"#DejaVuSans-100\"/>\n     <use x=\"240.234375\" xlink:href=\"#DejaVuSans-97\"/>\n     <use x=\"301.513672\" xlink:href=\"#DejaVuSans-108\"/>\n    </g>\n   </g>\n  </g>\n  <g id=\"axes_3\">\n   <g id=\"patch_12\">\n    <path d=\"M 182.882857 107.498357 \nL 254.625714 107.498357 \nL 254.625714 35.7555 \nL 182.882857 35.7555 \nz\n\" style=\"fill:#ffffff;\"/>\n   </g>\n   <g clip-path=\"url(#p922ecd874c)\">\n    <image height=\"72\" id=\"image83b6bb991a\" transform=\"scale(1 -1)translate(0 -72)\" width=\"72\" x=\"182.882857\" xlink:href=\"data:image/png;base64,\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\" y=\"-35.498357\"/>\n   </g>\n   <g id=\"patch_13\">\n    <path d=\"M 182.882857 107.498357 \nL 182.882857 35.7555 \n\" style=\"fill:none;stroke:#000000;stroke-linecap:square;stroke-linejoin:miter;stroke-width:0.8;\"/>\n   </g>\n   <g id=\"patch_14\">\n    <path d=\"M 254.625714 107.498357 \nL 254.625714 35.7555 \n\" style=\"fill:none;stroke:#000000;stroke-linecap:square;stroke-linejoin:miter;stroke-width:0.8;\"/>\n   </g>\n   <g id=\"patch_15\">\n    <path d=\"M 182.882857 107.498357 \nL 254.625714 107.498357 \n\" style=\"fill:none;stroke:#000000;stroke-linecap:square;stroke-linejoin:miter;stroke-width:0.8;\"/>\n   </g>\n   <g id=\"patch_16\">\n    <path d=\"M 182.882857 35.7555 \nL 254.625714 35.7555 \n\" style=\"fill:none;stroke:#000000;stroke-linecap:square;stroke-linejoin:miter;stroke-width:0.8;\"/>\n   </g>\n   <g id=\"text_3\">\n    <!-- bag -->\n    <defs>\n     <path d=\"M 48.6875 27.296875 \nQ 48.6875 37.203125 44.609375 42.84375 \nQ 40.53125 48.484375 33.40625 48.484375 \nQ 26.265625 48.484375 22.1875 42.84375 \nQ 18.109375 37.203125 18.109375 27.296875 \nQ 18.109375 17.390625 22.1875 11.75 \nQ 26.265625 6.109375 33.40625 6.109375 \nQ 40.53125 6.109375 44.609375 11.75 \nQ 48.6875 17.390625 48.6875 27.296875 \nz\nM 18.109375 46.390625 \nQ 20.953125 51.265625 25.265625 53.625 \nQ 29.59375 56 35.59375 56 \nQ 45.5625 56 51.78125 48.09375 \nQ 58.015625 40.1875 58.015625 27.296875 \nQ 58.015625 14.40625 51.78125 6.484375 \nQ 45.5625 -1.421875 35.59375 -1.421875 \nQ 29.59375 -1.421875 25.265625 0.953125 \nQ 20.953125 3.328125 18.109375 8.203125 \nL 18.109375 0 \nL 9.078125 0 \nL 9.078125 75.984375 \nL 18.109375 75.984375 \nz\n\" id=\"DejaVuSans-98\"/>\n     <path d=\"M 45.40625 27.984375 \nQ 45.40625 37.75 41.375 43.109375 \nQ 37.359375 48.484375 30.078125 48.484375 \nQ 22.859375 48.484375 18.828125 43.109375 \nQ 14.796875 37.75 14.796875 27.984375 \nQ 14.796875 18.265625 18.828125 12.890625 \nQ 22.859375 7.515625 30.078125 7.515625 \nQ 37.359375 7.515625 41.375 12.890625 \nQ 45.40625 18.265625 45.40625 27.984375 \nz\nM 54.390625 6.78125 \nQ 54.390625 -7.171875 48.1875 -13.984375 \nQ 42 -20.796875 29.203125 -20.796875 \nQ 24.46875 -20.796875 20.265625 -20.09375 \nQ 16.0625 -19.390625 12.109375 -17.921875 \nL 12.109375 -9.1875 \nQ 16.0625 -11.328125 19.921875 -12.34375 \nQ 23.78125 -13.375 27.78125 -13.375 \nQ 36.625 -13.375 41.015625 -8.765625 \nQ 45.40625 -4.15625 45.40625 5.171875 \nL 45.40625 9.625 \nQ 42.625 4.78125 38.28125 2.390625 \nQ 33.9375 0 27.875 0 \nQ 17.828125 0 11.671875 7.65625 \nQ 5.515625 15.328125 5.515625 27.984375 \nQ 5.515625 40.671875 11.671875 48.328125 \nQ 17.828125 56 27.875 56 \nQ 33.9375 56 38.28125 53.609375 \nQ 42.625 51.21875 45.40625 46.390625 \nL 45.40625 54.6875 \nL 54.390625 54.6875 \nz\n\" id=\"DejaVuSans-103\"/>\n    </defs>\n    <g transform=\"translate(207.459286 16.318125)scale(0.12 -0.12)\">\n     <use xlink:href=\"#DejaVuSans-98\"/>\n     <use x=\"63.476562\" xlink:href=\"#DejaVuSans-97\"/>\n     <use x=\"124.755859\" xlink:href=\"#DejaVuSans-103\"/>\n    </g>\n    <!-- bag -->\n    <g transform=\"translate(207.459286 29.7555)scale(0.12 -0.12)\">\n     <use xlink:href=\"#DejaVuSans-98\"/>\n     <use x=\"63.476562\" xlink:href=\"#DejaVuSans-97\"/>\n     <use x=\"124.755859\" xlink:href=\"#DejaVuSans-103\"/>\n    </g>\n   </g>\n  </g>\n  <g id=\"axes_4\">\n   <g id=\"patch_17\">\n    <path d=\"M 268.974286 107.498357 \nL 340.717143 107.498357 \nL 340.717143 35.7555 \nL 268.974286 35.7555 \nz\n\" style=\"fill:#ffffff;\"/>\n   </g>\n   <g clip-path=\"url(#p671c6175df)\">\n    <image height=\"72\" id=\"image9d16811958\" transform=\"scale(1 -1)translate(0 -72)\" width=\"72\" x=\"268.974286\" xlink:href=\"data:image/png;base64,\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\" y=\"-35.498357\"/>\n   </g>\n   <g id=\"patch_18\">\n    <path d=\"M 268.974286 107.498357 \nL 268.974286 35.7555 \n\" style=\"fill:none;stroke:#000000;stroke-linecap:square;stroke-linejoin:miter;stroke-width:0.8;\"/>\n   </g>\n   <g id=\"patch_19\">\n    <path d=\"M 340.717143 107.498357 \nL 340.717143 35.7555 \n\" style=\"fill:none;stroke:#000000;stroke-linecap:square;stroke-linejoin:miter;stroke-width:0.8;\"/>\n   </g>\n   <g id=\"patch_20\">\n    <path d=\"M 268.974286 107.498357 \nL 340.717143 107.498357 \n\" style=\"fill:none;stroke:#000000;stroke-linecap:square;stroke-linejoin:miter;stroke-width:0.8;\"/>\n   </g>\n   <g id=\"patch_21\">\n    <path d=\"M 268.974286 35.7555 \nL 340.717143 35.7555 \n\" style=\"fill:none;stroke:#000000;stroke-linecap:square;stroke-linejoin:miter;stroke-width:0.8;\"/>\n   </g>\n   <g id=\"text_4\">\n    <!-- sandal -->\n    <g transform=\"translate(285.087902 16.318125)scale(0.12 -0.12)\">\n     <use xlink:href=\"#DejaVuSans-115\"/>\n     <use x=\"52.099609\" xlink:href=\"#DejaVuSans-97\"/>\n     <use x=\"113.378906\" xlink:href=\"#DejaVuSans-110\"/>\n     <use x=\"176.757812\" xlink:href=\"#DejaVuSans-100\"/>\n     <use x=\"240.234375\" xlink:href=\"#DejaVuSans-97\"/>\n     <use x=\"301.513672\" xlink:href=\"#DejaVuSans-108\"/>\n    </g>\n    <!-- sandal -->\n    <g transform=\"translate(285.087902 29.7555)scale(0.12 -0.12)\">\n     <use xlink:href=\"#DejaVuSans-115\"/>\n     <use x=\"52.099609\" xlink:href=\"#DejaVuSans-97\"/>\n     <use x=\"113.378906\" xlink:href=\"#DejaVuSans-110\"/>\n     <use x=\"176.757812\" xlink:href=\"#DejaVuSans-100\"/>\n     <use x=\"240.234375\" xlink:href=\"#DejaVuSans-97\"/>\n     <use x=\"301.513672\" xlink:href=\"#DejaVuSans-108\"/>\n    </g>\n   </g>\n  </g>\n  <g id=\"axes_5\">\n   <g id=\"patch_22\">\n    <path d=\"M 355.065714 107.498357 \nL 426.808571 107.498357 \nL 426.808571 35.7555 \nL 355.065714 35.7555 \nz\n\" style=\"fill:#ffffff;\"/>\n   </g>\n   <g clip-path=\"url(#p962d174bf5)\">\n    <image height=\"72\" id=\"imagea1570b02b3\" transform=\"scale(1 -1)translate(0 -72)\" width=\"72\" x=\"355.065714\" xlink:href=\"data:image/png;base64,\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\" y=\"-35.498357\"/>\n   </g>\n   <g id=\"patch_23\">\n    <path d=\"M 355.065714 107.498357 \nL 355.065714 35.7555 \n\" style=\"fill:none;stroke:#000000;stroke-linecap:square;stroke-linejoin:miter;stroke-width:0.8;\"/>\n   </g>\n   <g id=\"patch_24\">\n    <path d=\"M 426.808571 107.498357 \nL 426.808571 35.7555 \n\" style=\"fill:none;stroke:#000000;stroke-linecap:square;stroke-linejoin:miter;stroke-width:0.8;\"/>\n   </g>\n   <g id=\"patch_25\">\n    <path d=\"M 355.065714 107.498357 \nL 426.808571 107.498357 \n\" style=\"fill:none;stroke:#000000;stroke-linecap:square;stroke-linejoin:miter;stroke-width:0.8;\"/>\n   </g>\n   <g id=\"patch_26\">\n    <path d=\"M 355.065714 35.7555 \nL 426.808571 35.7555 \n\" style=\"fill:none;stroke:#000000;stroke-linecap:square;stroke-linejoin:miter;stroke-width:0.8;\"/>\n   </g>\n   <g id=\"text_5\">\n    <!-- sandal -->\n    <g transform=\"translate(371.17933 16.318125)scale(0.12 -0.12)\">\n     <use xlink:href=\"#DejaVuSans-115\"/>\n     <use x=\"52.099609\" xlink:href=\"#DejaVuSans-97\"/>\n     <use x=\"113.378906\" xlink:href=\"#DejaVuSans-110\"/>\n     <use x=\"176.757812\" xlink:href=\"#DejaVuSans-100\"/>\n     <use x=\"240.234375\" xlink:href=\"#DejaVuSans-97\"/>\n     <use x=\"301.513672\" xlink:href=\"#DejaVuSans-108\"/>\n    </g>\n    <!-- sandal -->\n    <g transform=\"translate(371.17933 29.7555)scale(0.12 -0.12)\">\n     <use xlink:href=\"#DejaVuSans-115\"/>\n     <use x=\"52.099609\" xlink:href=\"#DejaVuSans-97\"/>\n     <use x=\"113.378906\" xlink:href=\"#DejaVuSans-110\"/>\n     <use x=\"176.757812\" xlink:href=\"#DejaVuSans-100\"/>\n     <use x=\"240.234375\" xlink:href=\"#DejaVuSans-97\"/>\n     <use x=\"301.513672\" xlink:href=\"#DejaVuSans-108\"/>\n    </g>\n   </g>\n  </g>\n  <g id=\"axes_6\">\n   <g id=\"patch_27\">\n    <path d=\"M 441.157143 107.498357 \nL 512.9 107.498357 \nL 512.9 35.7555 \nL 441.157143 35.7555 \nz\n\" style=\"fill:#ffffff;\"/>\n   </g>\n   <g clip-path=\"url(#p09858cf1fd)\">\n    <image height=\"72\" id=\"image8ebc22073e\" transform=\"scale(1 -1)translate(0 -72)\" width=\"72\" x=\"441.157143\" xlink:href=\"data:image/png;base64,\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\" y=\"-35.498357\"/>\n   </g>\n   <g id=\"patch_28\">\n    <path d=\"M 441.157143 107.498357 \nL 441.157143 35.7555 \n\" style=\"fill:none;stroke:#000000;stroke-linecap:square;stroke-linejoin:miter;stroke-width:0.8;\"/>\n   </g>\n   <g id=\"patch_29\">\n    <path d=\"M 512.9 107.498357 \nL 512.9 35.7555 \n\" style=\"fill:none;stroke:#000000;stroke-linecap:square;stroke-linejoin:miter;stroke-width:0.8;\"/>\n   </g>\n   <g id=\"patch_30\">\n    <path d=\"M 441.157143 107.498357 \nL 512.9 107.498357 \n\" style=\"fill:none;stroke:#000000;stroke-linecap:square;stroke-linejoin:miter;stroke-width:0.8;\"/>\n   </g>\n   <g id=\"patch_31\">\n    <path d=\"M 441.157143 35.7555 \nL 512.9 35.7555 \n\" style=\"fill:none;stroke:#000000;stroke-linecap:square;stroke-linejoin:miter;stroke-width:0.8;\"/>\n   </g>\n   <g id=\"text_6\">\n    <!-- coat -->\n    <defs>\n     <path d=\"M 48.78125 52.59375 \nL 48.78125 44.1875 \nQ 44.96875 46.296875 41.140625 47.34375 \nQ 37.3125 48.390625 33.40625 48.390625 \nQ 24.65625 48.390625 19.8125 42.84375 \nQ 14.984375 37.3125 14.984375 27.296875 \nQ 14.984375 17.28125 19.8125 11.734375 \nQ 24.65625 6.203125 33.40625 6.203125 \nQ 37.3125 6.203125 41.140625 7.25 \nQ 44.96875 8.296875 48.78125 10.40625 \nL 48.78125 2.09375 \nQ 45.015625 0.34375 40.984375 -0.53125 \nQ 36.96875 -1.421875 32.421875 -1.421875 \nQ 20.0625 -1.421875 12.78125 6.34375 \nQ 5.515625 14.109375 5.515625 27.296875 \nQ 5.515625 40.671875 12.859375 48.328125 \nQ 20.21875 56 33.015625 56 \nQ 37.15625 56 41.109375 55.140625 \nQ 45.0625 54.296875 48.78125 52.59375 \nz\n\" id=\"DejaVuSans-99\"/>\n     <path d=\"M 30.609375 48.390625 \nQ 23.390625 48.390625 19.1875 42.75 \nQ 14.984375 37.109375 14.984375 27.296875 \nQ 14.984375 17.484375 19.15625 11.84375 \nQ 23.34375 6.203125 30.609375 6.203125 \nQ 37.796875 6.203125 41.984375 11.859375 \nQ 46.1875 17.53125 46.1875 27.296875 \nQ 46.1875 37.015625 41.984375 42.703125 \nQ 37.796875 48.390625 30.609375 48.390625 \nz\nM 30.609375 56 \nQ 42.328125 56 49.015625 48.375 \nQ 55.71875 40.765625 55.71875 27.296875 \nQ 55.71875 13.875 49.015625 6.21875 \nQ 42.328125 -1.421875 30.609375 -1.421875 \nQ 18.84375 -1.421875 12.171875 6.21875 \nQ 5.515625 13.875 5.515625 27.296875 \nQ 5.515625 40.765625 12.171875 48.375 \nQ 18.84375 56 30.609375 56 \nz\n\" id=\"DejaVuSans-111\"/>\n    </defs>\n    <g transform=\"translate(464.029196 16.318125)scale(0.12 -0.12)\">\n     <use xlink:href=\"#DejaVuSans-99\"/>\n     <use x=\"54.980469\" xlink:href=\"#DejaVuSans-111\"/>\n     <use x=\"116.162109\" xlink:href=\"#DejaVuSans-97\"/>\n     <use x=\"177.441406\" xlink:href=\"#DejaVuSans-116\"/>\n    </g>\n    <!-- coat -->\n    <g transform=\"translate(464.029196 29.7555)scale(0.12 -0.12)\">\n     <use xlink:href=\"#DejaVuSans-99\"/>\n     <use x=\"54.980469\" xlink:href=\"#DejaVuSans-111\"/>\n     <use x=\"116.162109\" xlink:href=\"#DejaVuSans-97\"/>\n     <use x=\"177.441406\" xlink:href=\"#DejaVuSans-116\"/>\n    </g>\n   </g>\n  </g>\n </g>\n <defs>\n  <clipPath id=\"p92dd0354f6\">\n   <rect height=\"71.742857\" width=\"71.742857\" x=\"10.7\" y=\"35.7555\"/>\n  </clipPath>\n  <clipPath id=\"paa0c1d89f0\">\n   <rect height=\"71.742857\" width=\"71.742857\" x=\"96.791429\" y=\"35.7555\"/>\n  </clipPath>\n  <clipPath id=\"p922ecd874c\">\n   <rect height=\"71.742857\" width=\"71.742857\" x=\"182.882857\" y=\"35.7555\"/>\n  </clipPath>\n  <clipPath id=\"p671c6175df\">\n   <rect height=\"71.742857\" width=\"71.742857\" x=\"268.974286\" y=\"35.7555\"/>\n  </clipPath>\n  <clipPath id=\"p962d174bf5\">\n   <rect height=\"71.742857\" width=\"71.742857\" x=\"355.065714\" y=\"35.7555\"/>\n  </clipPath>\n  <clipPath id=\"p09858cf1fd\">\n   <rect height=\"71.742857\" width=\"71.742857\" x=\"441.157143\" y=\"35.7555\"/>\n  </clipPath>\n </defs>\n</svg>\n"
          },
          "metadata": {
            "needs_background": "light"
          }
        }
      ]
    },
    {
      "cell_type": "code",
      "source": [
        "mu.evaluate_accuracy(net, testDataLoader)"
      ],
      "metadata": {
        "id": "ptCi2f5RZzi6",
        "colab": {
          "base_uri": "https://localhost:8080/"
        },
        "outputId": "2904cc8a-aca7-45a4-efdb-2dd04060554e"
      },
      "execution_count": 22,
      "outputs": [
        {
          "output_type": "execute_result",
          "data": {
            "text/plain": [
              "0.8913"
            ]
          },
          "metadata": {},
          "execution_count": 22
        }
      ]
    },
    {
      "cell_type": "code",
      "source": [
        ""
      ],
      "metadata": {
        "id": "vzjakRfYCmCw"
      },
      "execution_count": null,
      "outputs": []
    }
  ]
}